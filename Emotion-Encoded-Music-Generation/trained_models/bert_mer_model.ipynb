{
 "cells": [
  {
   "cell_type": "markdown",
   "id": "76ebe6d7",
   "metadata": {},
   "source": [
    "# Music Emotion Recognition\n",
    "This notebook provides the code for implementing a BERT classiier \n",
    "\n",
    "## Importing libraries"
   ]
  },
  {
   "cell_type": "code",
   "execution_count": 1,
   "id": "73cce86a",
   "metadata": {
    "execution": {
     "iopub.execute_input": "2022-02-02T19:57:35.774827Z",
     "iopub.status.busy": "2022-02-02T19:57:35.773338Z",
     "iopub.status.idle": "2022-02-02T19:58:25.190118Z",
     "shell.execute_reply": "2022-02-02T19:58:25.189477Z",
     "shell.execute_reply.started": "2022-02-02T17:01:25.429004Z"
    },
    "papermill": {
     "duration": 49.470062,
     "end_time": "2022-02-02T19:58:25.190293",
     "exception": false,
     "start_time": "2022-02-02T19:57:35.720231",
     "status": "completed"
    },
    "tags": []
   },
   "outputs": [],
   "source": [
    "# !pip install music21 miditoolkit miditok"
   ]
  },
  {
   "cell_type": "code",
   "execution_count": 2,
   "id": "5f5b767b",
   "metadata": {},
   "outputs": [],
   "source": [
    "# %pip install --user torch==1.7.0 torchvision==0.8.1 -f https://download.pytorch.org/whl/cu102/torch_stable.html"
   ]
  },
  {
   "cell_type": "code",
   "execution_count": 3,
   "id": "dac3b311",
   "metadata": {},
   "outputs": [],
   "source": [
    "# !pip install transformers"
   ]
  },
  {
   "cell_type": "code",
   "execution_count": 1,
   "id": "623e6006",
   "metadata": {
    "_cell_guid": "b1076dfc-b9ad-4769-8c92-a6c4dae69d19",
    "_uuid": "8f2839f25d086af736a60e9eeb907d3b93b6e0e5",
    "execution": {
     "iopub.execute_input": "2022-02-02T19:58:25.393046Z",
     "iopub.status.busy": "2022-02-02T19:58:25.392169Z",
     "iopub.status.idle": "2022-02-02T19:58:34.251523Z",
     "shell.execute_reply": "2022-02-02T19:58:34.250961Z",
     "shell.execute_reply.started": "2022-02-02T17:02:12.062192Z"
    },
    "papermill": {
     "duration": 8.962224,
     "end_time": "2022-02-02T19:58:34.251664",
     "exception": false,
     "start_time": "2022-02-02T19:58:25.289440",
     "status": "completed"
    },
    "tags": []
   },
   "outputs": [],
   "source": [
    "import numpy as np \n",
    "import pandas as pd \n",
    "from io import open\n",
    "import tensorflow as tf\n",
    "import glob\n",
    "import os\n",
    "import torch\n",
    "import torch.nn as nn\n",
    "import torch.nn.functional as F\n",
    "import math\n",
    "import time\n",
    "from miditok import get_midi_programs, REMI, MIDILike\n",
    "from miditoolkit import MidiFile\n",
    "from torch.nn.utils.rnn import pad_sequence\n",
    "from sklearn.model_selection import train_test_split\n",
    "from torch.utils.data import DataLoader, Dataset, RandomSampler, SequentialSampler\n",
    "from transformers import BertForSequenceClassification, BertConfig, BertModel"
   ]
  },
  {
   "cell_type": "code",
   "execution_count": 2,
   "id": "5e2dade1",
   "metadata": {},
   "outputs": [
    {
     "data": {
      "text/plain": [
       "'1.7.0'"
      ]
     },
     "execution_count": 2,
     "metadata": {},
     "output_type": "execute_result"
    }
   ],
   "source": [
    "torch.__version__"
   ]
  },
  {
   "cell_type": "code",
   "execution_count": 3,
   "id": "92a58fea",
   "metadata": {},
   "outputs": [],
   "source": [
    "device = 'cuda'"
   ]
  },
  {
   "cell_type": "code",
   "execution_count": 4,
   "id": "c5681736",
   "metadata": {},
   "outputs": [],
   "source": [
    "torch.cuda.empty_cache()"
   ]
  },
  {
   "cell_type": "code",
   "execution_count": 5,
   "id": "6d70c676",
   "metadata": {},
   "outputs": [
    {
     "data": {
      "text/plain": [
       "True"
      ]
     },
     "execution_count": 5,
     "metadata": {},
     "output_type": "execute_result"
    }
   ],
   "source": [
    "torch.cuda.is_available()"
   ]
  },
  {
   "cell_type": "code",
   "execution_count": 6,
   "id": "b00bcb12",
   "metadata": {},
   "outputs": [],
   "source": [
    "# Seed\n",
    "# seed = 22\n",
    "# torch.manual_seed(seed)\n",
    "# torch.cuda.manual_seed(seed)\n",
    "# torch.cuda.manual_seed_all(seed)\n",
    "# np.random.seed(seed)\n",
    "# torch.backends.cudnn.benchmark = False\n",
    "# torch.backends.cudnn.deterministic = True"
   ]
  },
  {
   "cell_type": "markdown",
   "id": "51cd2282",
   "metadata": {},
   "source": [
    "## Loading the Dataset"
   ]
  },
  {
   "cell_type": "code",
   "execution_count": 7,
   "id": "528f24ba",
   "metadata": {
    "execution": {
     "iopub.execute_input": "2022-02-02T19:58:34.992588Z",
     "iopub.status.busy": "2022-02-02T19:58:34.991885Z",
     "iopub.status.idle": "2022-02-02T19:58:35.024130Z",
     "shell.execute_reply": "2022-02-02T19:58:35.024622Z",
     "shell.execute_reply.started": "2022-02-01T19:55:02.159239Z"
    },
    "papermill": {
     "duration": 0.199123,
     "end_time": "2022-02-02T19:58:35.024817",
     "exception": false,
     "start_time": "2022-02-02T19:58:34.825694",
     "status": "completed"
    },
    "tags": []
   },
   "outputs": [
    {
     "data": {
      "text/plain": [
       "ticks per beat: 384\n",
       "max tick: 46051\n",
       "tempo changes: 1\n",
       "time sig: 1\n",
       "key sig: 0\n",
       "markers: 0\n",
       "lyrics: False\n",
       "instruments: 1"
      ]
     },
     "execution_count": 7,
     "metadata": {},
     "output_type": "execute_result"
    }
   ],
   "source": [
    "# how a midi file looks like\n",
    "midi = MidiFile('archive/EMOPIA_1.0 (1)/EMOPIA_1.0/midis/Q1__8v0MFBZoco_0.mid')\n",
    "midi"
   ]
  },
  {
   "cell_type": "code",
   "execution_count": 8,
   "id": "2401ae07",
   "metadata": {},
   "outputs": [
    {
     "data": {
      "text/plain": [
       "[Instrument(program=0, is_drum=False, name=\"\")]"
      ]
     },
     "execution_count": 8,
     "metadata": {},
     "output_type": "execute_result"
    }
   ],
   "source": [
    "# for now, we will only be using for piano right since it determines the melody\n",
    "midi.instruments"
   ]
  },
  {
   "cell_type": "code",
   "execution_count": 9,
   "id": "2875ef2c",
   "metadata": {},
   "outputs": [],
   "source": [
    "# file path to the MIDI files\n",
    "files_paths = list(glob.glob('archive/EMOPIA_1.0 (1)/EMOPIA_1.0/midis/*.mid'))\n",
    "# reading labels\n",
    "labels_df = pd.read_csv('archive/EMOPIA_1.0 (1)/EMOPIA_1.0/label.csv')\n",
    "labels_df = list(labels_df['4Q'])"
   ]
  },
  {
   "cell_type": "code",
   "execution_count": 10,
   "id": "55496aea",
   "metadata": {},
   "outputs": [],
   "source": [
    "import muspy\n",
    "\n",
    "def return_range(music):\n",
    "    h = 0\n",
    "    l = 127\n",
    "    for track in music.tracks:\n",
    "        for note in track.notes:\n",
    "            if note.pitch > h:\n",
    "                h = note.pitch\n",
    "            if note.pitch < l:\n",
    "                l = note.pitch\n",
    "    return [h, l]\n",
    "\n",
    "tempos = []\n",
    "pitches = []\n",
    "\n",
    "for file in files_paths:\n",
    "    music = muspy.read_midi(file)\n",
    "    tempos.append(music.tempos[0].qpm)\n",
    "    pitches.extend(return_range(music))"
   ]
  },
  {
   "cell_type": "code",
   "execution_count": 11,
   "id": "8cf5693f",
   "metadata": {},
   "outputs": [
    {
     "name": "stdout",
     "output_type": "stream",
     "text": [
      "The unique tempos found in the dataset are:  {120.0}\n",
      "minimum pitch found 22\n",
      "maximum pitch found 105\n"
     ]
    }
   ],
   "source": [
    "print(\"The unique tempos found in the dataset are: \", set(tempos))\n",
    "print('minimum pitch found', min(pitches))\n",
    "print('maximum pitch found', max(pitches))"
   ]
  },
  {
   "cell_type": "code",
   "execution_count": 12,
   "id": "1626dd3e",
   "metadata": {},
   "outputs": [],
   "source": [
    "pitch_range = range(22, 105)\n",
    "additional_tokens = {'Chord': True, 'Rest': True, 'Tempo': True, 'Program': False,\n",
    "                     'rest_range': (2, 4),  # (half, 8 beats)\n",
    "                     'nb_tempos': 32,  # nb of tempo bins\n",
    "                     'tempo_range': (100, 140),\n",
    "                     'TimeSignature':None}  # (min, max)"
   ]
  },
  {
   "cell_type": "code",
   "execution_count": 13,
   "id": "54418a08",
   "metadata": {
    "execution": {
     "iopub.execute_input": "2022-02-02T19:58:35.213504Z",
     "iopub.status.busy": "2022-02-02T19:58:35.212909Z",
     "iopub.status.idle": "2022-02-02T19:59:00.573774Z",
     "shell.execute_reply": "2022-02-02T19:59:00.573213Z",
     "shell.execute_reply.started": "2022-02-02T17:04:02.153938Z"
    },
    "papermill": {
     "duration": 25.455698,
     "end_time": "2022-02-02T19:59:00.573925",
     "exception": false,
     "start_time": "2022-02-02T19:58:35.118227",
     "status": "completed"
    },
    "tags": []
   },
   "outputs": [],
   "source": [
    "# create a list of notes\n",
    "# this stores the REMI encoded tokens of the midi files\n",
    "\n",
    "def load_files(files_paths, encoder = REMI(additional_tokens)):\n",
    "    assert len(files_paths) > 0\n",
    "    notes = []\n",
    "\n",
    "\n",
    "    for file in files_paths:\n",
    "        # file_name = os.path.basename(file)\n",
    "\n",
    "        # read the MIDI file\n",
    "        midi = MidiFile(file)\n",
    "\n",
    "        # Converts MIDI to tokens\n",
    "        tokens = encoder.midi_to_tokens(midi)\n",
    "        \n",
    "        # The EMOPIA dataset has midi files with only one instrument, i.e. the piano \n",
    "        # hence we just add those tokens\n",
    "        # print(tokens)\n",
    "        notes.append(tokens[0])\n",
    "\n",
    "    return notes, encoder"
   ]
  },
  {
   "cell_type": "code",
   "execution_count": 14,
   "id": "69917162",
   "metadata": {},
   "outputs": [],
   "source": [
    "notes, remi_enc = load_files(files_paths, REMI(pitch_range, additional_tokens = additional_tokens))"
   ]
  },
  {
   "cell_type": "code",
   "execution_count": 15,
   "id": "a3d9b808",
   "metadata": {
    "execution": {
     "iopub.execute_input": "2022-02-02T19:59:01.757463Z",
     "iopub.status.busy": "2022-02-02T19:59:01.756729Z",
     "iopub.status.idle": "2022-02-02T19:59:01.759444Z",
     "shell.execute_reply": "2022-02-02T19:59:01.759843Z",
     "shell.execute_reply.started": "2022-02-02T17:06:14.781954Z"
    },
    "papermill": {
     "duration": 0.098923,
     "end_time": "2022-02-02T19:59:01.759981",
     "exception": false,
     "start_time": "2022-02-02T19:59:01.661058",
     "status": "completed"
    },
    "tags": []
   },
   "outputs": [
    {
     "name": "stdout",
     "output_type": "stream",
     "text": [
      "There are 267 unique tokens in the files\n"
     ]
    }
   ],
   "source": [
    "print(\"There are\",len(remi_enc.vocab),\"unique tokens in the files\")"
   ]
  },
  {
   "cell_type": "code",
   "execution_count": 16,
   "id": "627e7f4f",
   "metadata": {
    "execution": {
     "iopub.execute_input": "2022-02-02T19:59:02.145710Z",
     "iopub.status.busy": "2022-02-02T19:59:02.144060Z",
     "iopub.status.idle": "2022-02-02T19:59:02.146289Z",
     "shell.execute_reply": "2022-02-02T19:59:02.146719Z",
     "shell.execute_reply.started": "2022-02-02T17:53:06.340581Z"
    },
    "papermill": {
     "duration": 0.101832,
     "end_time": "2022-02-02T19:59:02.146867",
     "exception": false,
     "start_time": "2022-02-02T19:59:02.045035",
     "status": "completed"
    },
    "tags": []
   },
   "outputs": [],
   "source": [
    "# Create a dataset corpus from the notes and labels\n",
    "class REMICorpus(Dataset):\n",
    "    def __init__(self, notes, labels, encoder, seq_length):\n",
    "        self.encoder = encoder\n",
    "        self.seq_len = seq_length\n",
    "\n",
    "        \n",
    "        self.xtrain, self.ytrain= self.tokenize(notes, labels)\n",
    "        # self.xtest, self.ytest, _, _ = self.tokenize(ntest, ltest)\n",
    "        # self.xvalid = self.tokenize(ntest, ltest)\n",
    "    \n",
    "    def __len__(self):\n",
    "        return len(self.encoder.vocab)\n",
    "\n",
    "    def len_dataset(self):\n",
    "        return len(self.xtrain)\n",
    "    \n",
    "    def __getitem__(self, index, ):\n",
    "        return self.xtrain[index], self.ytrain[index]\n",
    "    \n",
    "    def tokenize(self, notes, labels):\n",
    "        assert len(notes) > 0\n",
    "        assert len(labels) > 0\n",
    "\n",
    "        # create a set of notes\n",
    "        # they should all be padded to have sequence of len seq_len\n",
    "        songss = []\n",
    "        target = []\n",
    "\n",
    "        for song, label in zip(notes, labels):\n",
    "            song = torch.tensor(song).type(torch.int64)\n",
    "            songs = list(song.split(self.seq_len))\n",
    "\n",
    "            for i in range(len(songs)):\n",
    "                # removing sequences that have < seq len/4 tokens\n",
    "                if len(songs[i]) < self.seq_len/4:\n",
    "                    del songs[i]\n",
    "                    continue\n",
    "                target.append(label-1)\n",
    "            songss.extend(songs)\n",
    "        \n",
    "        # padding songs to be of same length\n",
    "        data = pad_sequence(songss)\n",
    "        data = data.T\n",
    "        target = torch.LongTensor(target)\n",
    "        return data, target"
   ]
  },
  {
   "cell_type": "code",
   "execution_count": 17,
   "id": "a0072540",
   "metadata": {
    "execution": {
     "iopub.execute_input": "2022-02-02T19:59:02.350085Z",
     "iopub.status.busy": "2022-02-02T19:59:02.349327Z",
     "iopub.status.idle": "2022-02-02T19:59:02.547361Z",
     "shell.execute_reply": "2022-02-02T19:59:02.547868Z",
     "shell.execute_reply.started": "2022-02-02T17:53:07.695073Z"
    },
    "papermill": {
     "duration": 0.308022,
     "end_time": "2022-02-02T19:59:02.548041",
     "exception": false,
     "start_time": "2022-02-02T19:59:02.240019",
     "status": "completed"
    },
    "tags": []
   },
   "outputs": [],
   "source": [
    "ntrain, ntest, ltrain, ltest = train_test_split(notes, labels_df, test_size=0.3, random_state=42, shuffle=True, stratify=labels_df)\n",
    "train_corpus = REMICorpus(ntrain, ltrain, remi_enc, 20)\n",
    "val_corpus = REMICorpus(ntest, ltest, remi_enc, 20)"
   ]
  },
  {
   "cell_type": "code",
   "execution_count": 18,
   "id": "35102c56",
   "metadata": {},
   "outputs": [
    {
     "name": "stdout",
     "output_type": "stream",
     "text": [
      "train data shape: torch.Size([41929, 20])\n",
      "test data shape: torch.Size([18215, 20])\n",
      "train data shape: torch.Size([41929])\n",
      "test data shape: torch.Size([18215])\n"
     ]
    }
   ],
   "source": [
    "xtest = val_corpus.xtrain\n",
    "xtrain = train_corpus.xtrain\n",
    "# ytest = val_corpus.ytrain\n",
    "# ytrain = train_corpus.ytrain\n",
    "\n",
    "\n",
    "# train_emo = corpus.ytrain.to(device)\n",
    "# val_emo = corpus.yvalid.to(device)\n",
    "\n",
    "print(\"train data shape:\", train_corpus.xtrain.shape)\n",
    "print(\"test data shape:\", val_corpus.xtrain.shape)\n",
    "print(\"train data shape:\", train_corpus.ytrain.shape)\n",
    "print(\"test data shape:\", val_corpus.ytrain.shape)"
   ]
  },
  {
   "cell_type": "code",
   "execution_count": 19,
   "id": "ddd8310a",
   "metadata": {},
   "outputs": [],
   "source": [
    "batch_size = 32\n",
    "# creating a dataloader\n",
    "train_dataloader = DataLoader(\n",
    "    train_corpus,\n",
    "    sampler=SequentialSampler(xtrain),\n",
    "    batch_size=batch_size,\n",
    ")\n",
    "val_dataloader = DataLoader(\n",
    "    val_corpus,\n",
    "    sampler=SequentialSampler(xtest),\n",
    "    batch_size=batch_size,\n",
    ")"
   ]
  },
  {
   "cell_type": "code",
   "execution_count": 20,
   "id": "e1e8bdf9",
   "metadata": {
    "execution": {
     "iopub.execute_input": "2022-02-02T19:59:02.746806Z",
     "iopub.status.busy": "2022-02-02T19:59:02.745183Z",
     "iopub.status.idle": "2022-02-02T19:59:02.749838Z",
     "shell.execute_reply": "2022-02-02T19:59:02.749418Z",
     "shell.execute_reply.started": "2022-02-02T17:53:08.825871Z"
    },
    "papermill": {
     "duration": 0.104443,
     "end_time": "2022-02-02T19:59:02.749958",
     "exception": false,
     "start_time": "2022-02-02T19:59:02.645515",
     "status": "completed"
    },
    "tags": []
   },
   "outputs": [
    {
     "name": "stdout",
     "output_type": "stream",
     "text": [
      "There are total 1078 songs and a total of 60144 sequences extracted\n"
     ]
    }
   ],
   "source": [
    "print(\"There are total\",len(notes), \"songs and a total of\", xtrain.shape[0] + xtest.shape[0], \"sequences extracted\")"
   ]
  },
  {
   "cell_type": "code",
   "execution_count": 21,
   "id": "1643dbb8",
   "metadata": {},
   "outputs": [
    {
     "name": "stdout",
     "output_type": "stream",
     "text": [
      "There are 267 unique tokens\n"
     ]
    }
   ],
   "source": [
    "print(\"There are\",len(train_corpus), \"unique tokens\")"
   ]
  },
  {
   "cell_type": "markdown",
   "id": "f054c0b7",
   "metadata": {},
   "source": [
    "## Model Building\n",
    "\n",
    "### Constants"
   ]
  },
  {
   "cell_type": "code",
   "execution_count": 22,
   "id": "86a292fb",
   "metadata": {},
   "outputs": [],
   "source": [
    "# size of the model\n",
    "ntokens = len(train_corpus)\n",
    "emsize = 256\n",
    "\n",
    "# parameters for the transformers\n",
    "nhid = 252\n",
    "\n",
    "# dropout\n",
    "dropout = 0.4\n",
    "\n",
    "# learning rates for each\n",
    "lr = 0.001\n"
   ]
  },
  {
   "cell_type": "markdown",
   "id": "84c3f68f",
   "metadata": {},
   "source": [
    "## Classifier"
   ]
  },
  {
   "cell_type": "code",
   "execution_count": 23,
   "id": "84eb2888",
   "metadata": {},
   "outputs": [],
   "source": [
    "# Adapted from \n",
    "# https://github.com/wazenmai/MIDI-BERT/blob/main/MidiBERT/remi/main.py"
   ]
  },
  {
   "cell_type": "code",
   "execution_count": 53,
   "id": "e37bf0d0",
   "metadata": {},
   "outputs": [],
   "source": [
    "class BERTClassifier(nn.Module):\n",
    "    def __init__(self, ntokens, nhid=252, max_len = 50, vocab_size = ntokens, num_hidden_layers = 4, num_attention_heads = 6):\n",
    "        super().__init__()\n",
    "\n",
    "        config = BertConfig(vocab_size = vocab_size, num_hidden_layers = num_hidden_layers, num_attention_heads = num_attention_heads, max_position_embeddings=max_len, position_embedding_type='relative_key_query', hidden_size=nhid)     \n",
    "        self.d_model = nhid\n",
    "        self.nhid = nhid\n",
    "\n",
    "        self.n_token = ntokens\n",
    "        self.emb_size = 512\n",
    "        \n",
    "        # creates an embedding of the tokens\n",
    "        self.embedding = nn.Embedding(self.n_token, self.emb_size) \n",
    "\n",
    "        # passing through a linear layer, to reduce the features to the dimension of the model \n",
    "        self.in_linear = nn.Linear(self.emb_size, self.d_model)\n",
    "        \n",
    "        # pass through a BERT model\n",
    "        self.bert = BertModel(config)\n",
    "\n",
    "        # output to 4 classes\n",
    "        self.out_linear = nn.Linear(self.d_model, 4)\n",
    "\n",
    "\n",
    "    def forward(self, x, attn_mask=None):\n",
    "        # create embedding\n",
    "        x = x.to(device)\n",
    "        if attn_mask != None:\n",
    "            attn_mask = attn_mask.to(device)\n",
    "        x = self.embedding(x) * math.sqrt(self.d_model)\n",
    "        # linear layer\n",
    "        x = self.in_linear(x)\n",
    "        \n",
    "        x = self.bert(inputs_embeds=x, attention_mask=attn_mask, output_hidden_states=True)\n",
    "        \n",
    "        x = x.hidden_states[-1]\n",
    "        x = x.mean(dim=1)\n",
    "        x = self.out_linear(x)\n",
    "        # print(x.shape)\n",
    "\n",
    "        return x"
   ]
  },
  {
   "cell_type": "code",
   "execution_count": 49,
   "id": "b50ece0f",
   "metadata": {},
   "outputs": [
    {
     "data": {
      "text/plain": [
       "BERTClassifier(\n",
       "  (embedding): Embedding(267, 512)\n",
       "  (in_linear): Linear(in_features=512, out_features=252, bias=True)\n",
       "  (bert): BertModel(\n",
       "    (embeddings): BertEmbeddings(\n",
       "      (word_embeddings): Embedding(267, 252, padding_idx=0)\n",
       "      (position_embeddings): Embedding(512, 252)\n",
       "      (token_type_embeddings): Embedding(2, 252)\n",
       "      (LayerNorm): LayerNorm((252,), eps=1e-12, elementwise_affine=True)\n",
       "      (dropout): Dropout(p=0.1, inplace=False)\n",
       "    )\n",
       "    (encoder): BertEncoder(\n",
       "      (layer): ModuleList(\n",
       "        (0): BertLayer(\n",
       "          (attention): BertAttention(\n",
       "            (self): BertSelfAttention(\n",
       "              (query): Linear(in_features=252, out_features=252, bias=True)\n",
       "              (key): Linear(in_features=252, out_features=252, bias=True)\n",
       "              (value): Linear(in_features=252, out_features=252, bias=True)\n",
       "              (dropout): Dropout(p=0.1, inplace=False)\n",
       "              (distance_embedding): Embedding(1023, 42)\n",
       "            )\n",
       "            (output): BertSelfOutput(\n",
       "              (dense): Linear(in_features=252, out_features=252, bias=True)\n",
       "              (LayerNorm): LayerNorm((252,), eps=1e-12, elementwise_affine=True)\n",
       "              (dropout): Dropout(p=0.1, inplace=False)\n",
       "            )\n",
       "          )\n",
       "          (intermediate): BertIntermediate(\n",
       "            (dense): Linear(in_features=252, out_features=3072, bias=True)\n",
       "          )\n",
       "          (output): BertOutput(\n",
       "            (dense): Linear(in_features=3072, out_features=252, bias=True)\n",
       "            (LayerNorm): LayerNorm((252,), eps=1e-12, elementwise_affine=True)\n",
       "            (dropout): Dropout(p=0.1, inplace=False)\n",
       "          )\n",
       "        )\n",
       "        (1): BertLayer(\n",
       "          (attention): BertAttention(\n",
       "            (self): BertSelfAttention(\n",
       "              (query): Linear(in_features=252, out_features=252, bias=True)\n",
       "              (key): Linear(in_features=252, out_features=252, bias=True)\n",
       "              (value): Linear(in_features=252, out_features=252, bias=True)\n",
       "              (dropout): Dropout(p=0.1, inplace=False)\n",
       "              (distance_embedding): Embedding(1023, 42)\n",
       "            )\n",
       "            (output): BertSelfOutput(\n",
       "              (dense): Linear(in_features=252, out_features=252, bias=True)\n",
       "              (LayerNorm): LayerNorm((252,), eps=1e-12, elementwise_affine=True)\n",
       "              (dropout): Dropout(p=0.1, inplace=False)\n",
       "            )\n",
       "          )\n",
       "          (intermediate): BertIntermediate(\n",
       "            (dense): Linear(in_features=252, out_features=3072, bias=True)\n",
       "          )\n",
       "          (output): BertOutput(\n",
       "            (dense): Linear(in_features=3072, out_features=252, bias=True)\n",
       "            (LayerNorm): LayerNorm((252,), eps=1e-12, elementwise_affine=True)\n",
       "            (dropout): Dropout(p=0.1, inplace=False)\n",
       "          )\n",
       "        )\n",
       "        (2): BertLayer(\n",
       "          (attention): BertAttention(\n",
       "            (self): BertSelfAttention(\n",
       "              (query): Linear(in_features=252, out_features=252, bias=True)\n",
       "              (key): Linear(in_features=252, out_features=252, bias=True)\n",
       "              (value): Linear(in_features=252, out_features=252, bias=True)\n",
       "              (dropout): Dropout(p=0.1, inplace=False)\n",
       "              (distance_embedding): Embedding(1023, 42)\n",
       "            )\n",
       "            (output): BertSelfOutput(\n",
       "              (dense): Linear(in_features=252, out_features=252, bias=True)\n",
       "              (LayerNorm): LayerNorm((252,), eps=1e-12, elementwise_affine=True)\n",
       "              (dropout): Dropout(p=0.1, inplace=False)\n",
       "            )\n",
       "          )\n",
       "          (intermediate): BertIntermediate(\n",
       "            (dense): Linear(in_features=252, out_features=3072, bias=True)\n",
       "          )\n",
       "          (output): BertOutput(\n",
       "            (dense): Linear(in_features=3072, out_features=252, bias=True)\n",
       "            (LayerNorm): LayerNorm((252,), eps=1e-12, elementwise_affine=True)\n",
       "            (dropout): Dropout(p=0.1, inplace=False)\n",
       "          )\n",
       "        )\n",
       "        (3): BertLayer(\n",
       "          (attention): BertAttention(\n",
       "            (self): BertSelfAttention(\n",
       "              (query): Linear(in_features=252, out_features=252, bias=True)\n",
       "              (key): Linear(in_features=252, out_features=252, bias=True)\n",
       "              (value): Linear(in_features=252, out_features=252, bias=True)\n",
       "              (dropout): Dropout(p=0.1, inplace=False)\n",
       "              (distance_embedding): Embedding(1023, 42)\n",
       "            )\n",
       "            (output): BertSelfOutput(\n",
       "              (dense): Linear(in_features=252, out_features=252, bias=True)\n",
       "              (LayerNorm): LayerNorm((252,), eps=1e-12, elementwise_affine=True)\n",
       "              (dropout): Dropout(p=0.1, inplace=False)\n",
       "            )\n",
       "          )\n",
       "          (intermediate): BertIntermediate(\n",
       "            (dense): Linear(in_features=252, out_features=3072, bias=True)\n",
       "          )\n",
       "          (output): BertOutput(\n",
       "            (dense): Linear(in_features=3072, out_features=252, bias=True)\n",
       "            (LayerNorm): LayerNorm((252,), eps=1e-12, elementwise_affine=True)\n",
       "            (dropout): Dropout(p=0.1, inplace=False)\n",
       "          )\n",
       "        )\n",
       "      )\n",
       "    )\n",
       "    (pooler): BertPooler(\n",
       "      (dense): Linear(in_features=252, out_features=252, bias=True)\n",
       "      (activation): Tanh()\n",
       "    )\n",
       "  )\n",
       "  (out_linear): Linear(in_features=252, out_features=4, bias=True)\n",
       ")"
      ]
     },
     "execution_count": 49,
     "metadata": {},
     "output_type": "execute_result"
    }
   ],
   "source": [
    "model = BERTClassifier(ntokens, nhid=nhid)\n",
    "model.to(device)"
   ]
  },
  {
   "cell_type": "code",
   "execution_count": 50,
   "id": "fec50c17",
   "metadata": {},
   "outputs": [],
   "source": [
    "def network_paras(model):\n",
    "    # compute only trainable params\n",
    "    model_parameters = filter(lambda p: p.requires_grad, model.parameters())\n",
    "    params = sum([np.prod(p.size()) for p in model_parameters])\n",
    "    return params"
   ]
  },
  {
   "cell_type": "code",
   "execution_count": 51,
   "id": "fff1df32",
   "metadata": {},
   "outputs": [
    {
     "name": "stdout",
     "output_type": "stream",
     "text": [
      "There are 7930504 parameters in the model\n"
     ]
    }
   ],
   "source": [
    "print(\"There are\",network_paras(model),\"parameters in the model\")"
   ]
  },
  {
   "cell_type": "markdown",
   "id": "d8af7b94",
   "metadata": {},
   "source": [
    "## Training"
   ]
  },
  {
   "cell_type": "code",
   "execution_count": 41,
   "id": "8bd5647b",
   "metadata": {},
   "outputs": [],
   "source": [
    "import torch\n",
    "from torch.utils.tensorboard import SummaryWriter\n",
    "writer = SummaryWriter()"
   ]
  },
  {
   "cell_type": "code",
   "execution_count": 42,
   "id": "885307c8",
   "metadata": {},
   "outputs": [
    {
     "data": {
      "text/plain": [
       "1311"
      ]
     },
     "execution_count": 42,
     "metadata": {},
     "output_type": "execute_result"
    }
   ],
   "source": [
    "len(train_dataloader)"
   ]
  },
  {
   "cell_type": "code",
   "execution_count": 41,
   "id": "0e3e6213",
   "metadata": {},
   "outputs": [
    {
     "data": {
      "text/plain": [
       "0"
      ]
     },
     "execution_count": 41,
     "metadata": {},
     "output_type": "execute_result"
    }
   ],
   "source": [
    "pad_token = remi_enc.vocab.event_to_token['PAD_None']\n",
    "pad_token"
   ]
  },
  {
   "cell_type": "code",
   "execution_count": 44,
   "id": "837cd3da",
   "metadata": {},
   "outputs": [
    {
     "name": "stdout",
     "output_type": "stream",
     "text": [
      "Epoch 1/60 (48s): Training Loss: 1.339, Training Accuracy: 0.380\n",
      "Epoch 2/60 (97s): Training Loss: 1.074, Training Accuracy: 0.485\n",
      "Epoch 3/60 (145s): Training Loss: 1.082, Training Accuracy: 0.483\n"
     ]
    }
   ],
   "source": [
    "from time import time\n",
    "from sklearn.metrics import f1_score, accuracy_score\n",
    "\n",
    "model.train()\n",
    "crit = nn.CrossEntropyLoss(reduction='mean')\n",
    "optim = torch.optim.Adam(model.parameters(), lr=lr, weight_decay=0.01)\n",
    "\n",
    "def train():\n",
    "    epochs = 60\n",
    "    batches = len(train_dataloader)\n",
    "\n",
    "    losses, accuracies = [], []\n",
    "    start = time()\n",
    "    \n",
    "    for epoch in range(epochs):\n",
    "\n",
    "        model.zero_grad()\n",
    "        \n",
    "        total_loss, total_acc  = 0, 0\n",
    "\n",
    "        for bidx, (xtrain, ytrain)  in enumerate(train_dataloader): \n",
    "            optim.zero_grad()\n",
    "            xtrain.to(device)\n",
    "            ytrain.to(device)\n",
    "\n",
    "            # loss_mask = torch.ones(xtrain.size(0), (xtrain.size(1)))\n",
    "\n",
    "            attn_mask =  (xtrain != pad_token).float().to(device)  \n",
    "\n",
    "            y = model(xtrain, attn_mask)\n",
    "\n",
    "            learning = np.argmax(y.cpu().detach(), axis=-1)\n",
    "            learning = learning.type(torch.float)\n",
    "\n",
    "            acc = accuracy_score(ytrain, learning)\n",
    "            # print(target.shape, learning.shape)\n",
    "    \n",
    "            # calculate losses\n",
    "            loss = crit(y.cpu(), ytrain.cpu())\n",
    "            \n",
    "            total_loss += loss\n",
    "            total_acc += acc\n",
    "        \n",
    "            loss.backward()\n",
    "            nn.utils.clip_grad_norm_(model.parameters(), 3.0)\n",
    "            optim.step()\n",
    "\n",
    "        losses.append(total_loss/ batches)\n",
    "        accuracies.append(total_acc / batches)\n",
    "\n",
    "        writer.add_scalar(\"Training Loss\", losses[-1], epoch)\n",
    "        writer.add_scalar(\"Training Accuracy\", accuracies[-1], epoch)\n",
    "        \n",
    "        print(f\"Epoch {epoch+1}/{epochs} ({int(time() - start)}s):\"\n",
    "              f\" Training Loss: {losses[-1]:.3f},\"\n",
    "              f\" Training Accuracy: {accuracies[-1]:.3f}\")\n",
    "train()"
   ]
  },
  {
   "cell_type": "code",
   "execution_count": null,
   "id": "3516a59f",
   "metadata": {},
   "outputs": [
    {
     "name": "stdout",
     "output_type": "stream",
     "text": [
      "Model's state_dict:\n",
      "embedding.weight \t torch.Size([267, 512])\n",
      "in_linear.weight \t torch.Size([252, 512])\n",
      "in_linear.bias \t torch.Size([252])\n",
      "bert.embeddings.position_ids \t torch.Size([1, 50])\n",
      "bert.embeddings.word_embeddings.weight \t torch.Size([267, 252])\n",
      "bert.embeddings.position_embeddings.weight \t torch.Size([50, 252])\n",
      "bert.embeddings.token_type_embeddings.weight \t torch.Size([2, 252])\n",
      "bert.embeddings.LayerNorm.weight \t torch.Size([252])\n",
      "bert.embeddings.LayerNorm.bias \t torch.Size([252])\n",
      "bert.encoder.layer.0.attention.self.query.weight \t torch.Size([252, 252])\n",
      "bert.encoder.layer.0.attention.self.query.bias \t torch.Size([252])\n",
      "bert.encoder.layer.0.attention.self.key.weight \t torch.Size([252, 252])\n",
      "bert.encoder.layer.0.attention.self.key.bias \t torch.Size([252])\n",
      "bert.encoder.layer.0.attention.self.value.weight \t torch.Size([252, 252])\n",
      "bert.encoder.layer.0.attention.self.value.bias \t torch.Size([252])\n",
      "bert.encoder.layer.0.attention.self.distance_embedding.weight \t torch.Size([99, 42])\n",
      "bert.encoder.layer.0.attention.output.dense.weight \t torch.Size([252, 252])\n",
      "bert.encoder.layer.0.attention.output.dense.bias \t torch.Size([252])\n",
      "bert.encoder.layer.0.attention.output.LayerNorm.weight \t torch.Size([252])\n",
      "bert.encoder.layer.0.attention.output.LayerNorm.bias \t torch.Size([252])\n",
      "bert.encoder.layer.0.intermediate.dense.weight \t torch.Size([3072, 252])\n",
      "bert.encoder.layer.0.intermediate.dense.bias \t torch.Size([3072])\n",
      "bert.encoder.layer.0.output.dense.weight \t torch.Size([252, 3072])\n",
      "bert.encoder.layer.0.output.dense.bias \t torch.Size([252])\n",
      "bert.encoder.layer.0.output.LayerNorm.weight \t torch.Size([252])\n",
      "bert.encoder.layer.0.output.LayerNorm.bias \t torch.Size([252])\n",
      "bert.encoder.layer.1.attention.self.query.weight \t torch.Size([252, 252])\n",
      "bert.encoder.layer.1.attention.self.query.bias \t torch.Size([252])\n",
      "bert.encoder.layer.1.attention.self.key.weight \t torch.Size([252, 252])\n",
      "bert.encoder.layer.1.attention.self.key.bias \t torch.Size([252])\n",
      "bert.encoder.layer.1.attention.self.value.weight \t torch.Size([252, 252])\n",
      "bert.encoder.layer.1.attention.self.value.bias \t torch.Size([252])\n",
      "bert.encoder.layer.1.attention.self.distance_embedding.weight \t torch.Size([99, 42])\n",
      "bert.encoder.layer.1.attention.output.dense.weight \t torch.Size([252, 252])\n",
      "bert.encoder.layer.1.attention.output.dense.bias \t torch.Size([252])\n",
      "bert.encoder.layer.1.attention.output.LayerNorm.weight \t torch.Size([252])\n",
      "bert.encoder.layer.1.attention.output.LayerNorm.bias \t torch.Size([252])\n",
      "bert.encoder.layer.1.intermediate.dense.weight \t torch.Size([3072, 252])\n",
      "bert.encoder.layer.1.intermediate.dense.bias \t torch.Size([3072])\n",
      "bert.encoder.layer.1.output.dense.weight \t torch.Size([252, 3072])\n",
      "bert.encoder.layer.1.output.dense.bias \t torch.Size([252])\n",
      "bert.encoder.layer.1.output.LayerNorm.weight \t torch.Size([252])\n",
      "bert.encoder.layer.1.output.LayerNorm.bias \t torch.Size([252])\n",
      "bert.encoder.layer.2.attention.self.query.weight \t torch.Size([252, 252])\n",
      "bert.encoder.layer.2.attention.self.query.bias \t torch.Size([252])\n",
      "bert.encoder.layer.2.attention.self.key.weight \t torch.Size([252, 252])\n",
      "bert.encoder.layer.2.attention.self.key.bias \t torch.Size([252])\n",
      "bert.encoder.layer.2.attention.self.value.weight \t torch.Size([252, 252])\n",
      "bert.encoder.layer.2.attention.self.value.bias \t torch.Size([252])\n",
      "bert.encoder.layer.2.attention.self.distance_embedding.weight \t torch.Size([99, 42])\n",
      "bert.encoder.layer.2.attention.output.dense.weight \t torch.Size([252, 252])\n",
      "bert.encoder.layer.2.attention.output.dense.bias \t torch.Size([252])\n",
      "bert.encoder.layer.2.attention.output.LayerNorm.weight \t torch.Size([252])\n",
      "bert.encoder.layer.2.attention.output.LayerNorm.bias \t torch.Size([252])\n",
      "bert.encoder.layer.2.intermediate.dense.weight \t torch.Size([3072, 252])\n",
      "bert.encoder.layer.2.intermediate.dense.bias \t torch.Size([3072])\n",
      "bert.encoder.layer.2.output.dense.weight \t torch.Size([252, 3072])\n",
      "bert.encoder.layer.2.output.dense.bias \t torch.Size([252])\n",
      "bert.encoder.layer.2.output.LayerNorm.weight \t torch.Size([252])\n",
      "bert.encoder.layer.2.output.LayerNorm.bias \t torch.Size([252])\n",
      "bert.encoder.layer.3.attention.self.query.weight \t torch.Size([252, 252])\n",
      "bert.encoder.layer.3.attention.self.query.bias \t torch.Size([252])\n",
      "bert.encoder.layer.3.attention.self.key.weight \t torch.Size([252, 252])\n",
      "bert.encoder.layer.3.attention.self.key.bias \t torch.Size([252])\n",
      "bert.encoder.layer.3.attention.self.value.weight \t torch.Size([252, 252])\n",
      "bert.encoder.layer.3.attention.self.value.bias \t torch.Size([252])\n",
      "bert.encoder.layer.3.attention.self.distance_embedding.weight \t torch.Size([99, 42])\n",
      "bert.encoder.layer.3.attention.output.dense.weight \t torch.Size([252, 252])\n",
      "bert.encoder.layer.3.attention.output.dense.bias \t torch.Size([252])\n",
      "bert.encoder.layer.3.attention.output.LayerNorm.weight \t torch.Size([252])\n",
      "bert.encoder.layer.3.attention.output.LayerNorm.bias \t torch.Size([252])\n",
      "bert.encoder.layer.3.intermediate.dense.weight \t torch.Size([3072, 252])\n",
      "bert.encoder.layer.3.intermediate.dense.bias \t torch.Size([3072])\n",
      "bert.encoder.layer.3.output.dense.weight \t torch.Size([252, 3072])\n",
      "bert.encoder.layer.3.output.dense.bias \t torch.Size([252])\n",
      "bert.encoder.layer.3.output.LayerNorm.weight \t torch.Size([252])\n",
      "bert.encoder.layer.3.output.LayerNorm.bias \t torch.Size([252])\n",
      "bert.pooler.dense.weight \t torch.Size([252, 252])\n",
      "bert.pooler.dense.bias \t torch.Size([252])\n",
      "out_linear.weight \t torch.Size([4, 252])\n",
      "out_linear.bias \t torch.Size([4])\n"
     ]
    }
   ],
   "source": [
    "# Print model's state_dict\n",
    "print(\"Model's state_dict:\")\n",
    "for param_tensor in model.state_dict():\n",
    "    print(param_tensor, \"\\t\", model.state_dict()[param_tensor].size())"
   ]
  },
  {
   "cell_type": "code",
   "execution_count": null,
   "id": "9f094754",
   "metadata": {},
   "outputs": [],
   "source": [
    "torch.save(model.state_dict(), './models/bert_mer.pt')"
   ]
  },
  {
   "cell_type": "markdown",
   "id": "032adee0",
   "metadata": {},
   "source": [
    "## Evaluate "
   ]
  },
  {
   "cell_type": "code",
   "execution_count": null,
   "id": "48dd2ef5",
   "metadata": {},
   "outputs": [],
   "source": [
    "from sklearn.metrics import f1_score, accuracy_score, confusion_matrix\n",
    "import matplotlib.pyplot as plt\n",
    "model.eval()\n",
    "cms = torch.zeros((4,4))\n",
    "def eval(cms):\n",
    "    batches = len(val_dataloader)\n",
    "        \n",
    "    total_loss, total_acc  = 0, 0\n",
    "\n",
    "    with torch.no_grad():\n",
    "        for bidx, (xtest, ytest)  in enumerate(val_dataloader): \n",
    "            xtest.to(device)\n",
    "            ytest.to(device)\n",
    "\n",
    "            attn_mask =  (xtest != pad_token).float().to(device)  \n",
    "\n",
    "            y = model(xtest, attn_mask)\n",
    "\n",
    "            y_pred = np.argmax(y.cpu().detach(), axis=-1)\n",
    "            y_pred = y_pred.type(torch.float)\n",
    "\n",
    "            acc = accuracy_score(ytest, y_pred)\n",
    "\n",
    "            cm = confusion_matrix(ytest, y_pred, labels=range(4), normalize='true')\n",
    "\n",
    "            cms += cm\n",
    "\n",
    "            loss = crit(y.cpu(), ytest.cpu())\n",
    "            \n",
    "            total_loss += loss\n",
    "            total_acc += acc\n",
    "\n",
    "\n",
    "    total_loss = (total_loss/ batches)\n",
    "    total_acc = (total_acc / batches)\n",
    "\n",
    "    \n",
    "    print(f\" Testing Loss: {total_loss:.3f},\"\n",
    "          f\" Testing Accuracy: {total_acc:.3f}\")\n",
    "\n",
    "    return cms\n",
    "cms = eval(cms)"
   ]
  },
  {
   "cell_type": "code",
   "execution_count": null,
   "id": "44d86bce",
   "metadata": {},
   "outputs": [
    {
     "name": "stdout",
     "output_type": "stream",
     "text": [
      " Testing Loss: 0.996, Testing Accuracy: 0.566\n"
     ]
    }
   ],
   "source": [
    "from sklearn.metrics import f1_score, accuracy_score, confusion_matrix\n",
    "import matplotlib.pyplot as plt\n",
    "model.eval()\n",
    "cms = torch.zeros((4,4))\n",
    "def eval(cms):\n",
    "    batches = len(val_dataloader)\n",
    "        \n",
    "    total_loss, total_acc  = 0, 0\n",
    "\n",
    "    with torch.no_grad():\n",
    "        for bidx, (xtest, ytest)  in enumerate(val_dataloader): \n",
    "            xtest.to(device)\n",
    "            ytest.to(device)\n",
    "\n",
    "            attn_mask =  (xtest != pad_token).float().to(device)  \n",
    "\n",
    "            y = model(xtest, attn_mask)\n",
    "\n",
    "            y_pred = np.argmax(y.cpu().detach(), axis=-1)\n",
    "            y_pred = y_pred.type(torch.float)\n",
    "\n",
    "            acc = accuracy_score(ytest, y_pred)\n",
    "\n",
    "            cm = confusion_matrix(ytest, y_pred, labels=range(4), normalize='true')\n",
    "\n",
    "            cms += cm\n",
    "\n",
    "            loss = crit(y.cpu(), ytest.cpu())\n",
    "            \n",
    "            total_loss += loss\n",
    "            total_acc += acc\n",
    "\n",
    "\n",
    "    total_loss = (total_loss/ batches)\n",
    "    total_acc = (total_acc / batches)\n",
    "\n",
    "    \n",
    "    print(f\" Testing Loss: {total_loss:.3f},\"\n",
    "          f\" Testing Accuracy: {total_acc:.3f}\")\n",
    "\n",
    "    return cms\n",
    "cms = eval(cms)"
   ]
  },
  {
   "cell_type": "code",
   "execution_count": null,
   "id": "aa1926a4",
   "metadata": {},
   "outputs": [
    {
     "data": {
      "text/plain": [
       "tensor([[58.4218, 42.8520,  2.2470,  5.4792],\n",
       "        [37.2662, 85.0787,  3.9663, 10.6888],\n",
       "        [17.4413,  4.2257, 31.9835, 46.3495],\n",
       "        [13.9683,  3.5335, 13.6176, 79.8806]], dtype=torch.float64)"
      ]
     },
     "execution_count": 41,
     "metadata": {},
     "output_type": "execute_result"
    }
   ],
   "source": [
    "cms"
   ]
  },
  {
   "cell_type": "code",
   "execution_count": null,
   "id": "39007a04",
   "metadata": {},
   "outputs": [
    {
     "data": {
      "image/png": "[encoded data removed]",
      "text/plain": [
       "<Figure size 576x288 with 1 Axes>"
      ]
     },
     "metadata": {
      "image/png": {
       "height": 275,
       "width": 266
      },
      "needs_background": "light"
     },
     "output_type": "display_data"
    }
   ],
   "source": [
    "import itertools\n",
    "\n",
    "plt.figure(figsize=(8, 4))\n",
    "plt.imshow(cms, interpolation='nearest')\n",
    "plt.title('Confusion Matrix for BERT MER', fontsize=10)\n",
    "labels = ['Q'+str(i+1) for i in range(4)]\n",
    "tick_marks = np.arange(len(labels))\n",
    "plt.xticks(tick_marks, labels, fontsize=10)\n",
    "plt.yticks(tick_marks, labels, fontsize=10)\n",
    "\n",
    "# print('Confusion matrix, without normalization')\n",
    "\n",
    "thresh = cms.max() / 2.\n",
    "for i, j in itertools.product(range(cms.shape[0]), range(cms.shape[1])):\n",
    "    plt.text(j, i, format(cms[i, j], '.2f'),\n",
    "                horizontalalignment=\"center\",\n",
    "                color=\"white\" if cms[i, j] > thresh else \"black\",\n",
    "                fontsize=10)\n",
    "\n",
    "plt.ylabel('True label', fontsize=10)\n",
    "plt.xlabel('Predicted label', fontsize=10)\n",
    "plt.savefig(\"bert_classification.png\")"
   ]
  },
  {
   "cell_type": "code",
   "execution_count": null,
   "id": "5a6d2d2f",
   "metadata": {},
   "outputs": [],
   "source": []
  },
  {
   "cell_type": "markdown",
   "id": "e7cf5665",
   "metadata": {},
   "source": [
    "## Predict"
   ]
  },
  {
   "cell_type": "code",
   "execution_count": 54,
   "id": "ca647571",
   "metadata": {},
   "outputs": [
    {
     "data": {
      "text/plain": [
       "BERTClassifier(\n",
       "  (embedding): Embedding(267, 512)\n",
       "  (in_linear): Linear(in_features=512, out_features=252, bias=True)\n",
       "  (bert): BertModel(\n",
       "    (embeddings): BertEmbeddings(\n",
       "      (word_embeddings): Embedding(267, 252, padding_idx=0)\n",
       "      (position_embeddings): Embedding(50, 252)\n",
       "      (token_type_embeddings): Embedding(2, 252)\n",
       "      (LayerNorm): LayerNorm((252,), eps=1e-12, elementwise_affine=True)\n",
       "      (dropout): Dropout(p=0.1, inplace=False)\n",
       "    )\n",
       "    (encoder): BertEncoder(\n",
       "      (layer): ModuleList(\n",
       "        (0): BertLayer(\n",
       "          (attention): BertAttention(\n",
       "            (self): BertSelfAttention(\n",
       "              (query): Linear(in_features=252, out_features=252, bias=True)\n",
       "              (key): Linear(in_features=252, out_features=252, bias=True)\n",
       "              (value): Linear(in_features=252, out_features=252, bias=True)\n",
       "              (dropout): Dropout(p=0.1, inplace=False)\n",
       "              (distance_embedding): Embedding(99, 42)\n",
       "            )\n",
       "            (output): BertSelfOutput(\n",
       "              (dense): Linear(in_features=252, out_features=252, bias=True)\n",
       "              (LayerNorm): LayerNorm((252,), eps=1e-12, elementwise_affine=True)\n",
       "              (dropout): Dropout(p=0.1, inplace=False)\n",
       "            )\n",
       "          )\n",
       "          (intermediate): BertIntermediate(\n",
       "            (dense): Linear(in_features=252, out_features=3072, bias=True)\n",
       "          )\n",
       "          (output): BertOutput(\n",
       "            (dense): Linear(in_features=3072, out_features=252, bias=True)\n",
       "            (LayerNorm): LayerNorm((252,), eps=1e-12, elementwise_affine=True)\n",
       "            (dropout): Dropout(p=0.1, inplace=False)\n",
       "          )\n",
       "        )\n",
       "        (1): BertLayer(\n",
       "          (attention): BertAttention(\n",
       "            (self): BertSelfAttention(\n",
       "              (query): Linear(in_features=252, out_features=252, bias=True)\n",
       "              (key): Linear(in_features=252, out_features=252, bias=True)\n",
       "              (value): Linear(in_features=252, out_features=252, bias=True)\n",
       "              (dropout): Dropout(p=0.1, inplace=False)\n",
       "              (distance_embedding): Embedding(99, 42)\n",
       "            )\n",
       "            (output): BertSelfOutput(\n",
       "              (dense): Linear(in_features=252, out_features=252, bias=True)\n",
       "              (LayerNorm): LayerNorm((252,), eps=1e-12, elementwise_affine=True)\n",
       "              (dropout): Dropout(p=0.1, inplace=False)\n",
       "            )\n",
       "          )\n",
       "          (intermediate): BertIntermediate(\n",
       "            (dense): Linear(in_features=252, out_features=3072, bias=True)\n",
       "          )\n",
       "          (output): BertOutput(\n",
       "            (dense): Linear(in_features=3072, out_features=252, bias=True)\n",
       "            (LayerNorm): LayerNorm((252,), eps=1e-12, elementwise_affine=True)\n",
       "            (dropout): Dropout(p=0.1, inplace=False)\n",
       "          )\n",
       "        )\n",
       "        (2): BertLayer(\n",
       "          (attention): BertAttention(\n",
       "            (self): BertSelfAttention(\n",
       "              (query): Linear(in_features=252, out_features=252, bias=True)\n",
       "              (key): Linear(in_features=252, out_features=252, bias=True)\n",
       "              (value): Linear(in_features=252, out_features=252, bias=True)\n",
       "              (dropout): Dropout(p=0.1, inplace=False)\n",
       "              (distance_embedding): Embedding(99, 42)\n",
       "            )\n",
       "            (output): BertSelfOutput(\n",
       "              (dense): Linear(in_features=252, out_features=252, bias=True)\n",
       "              (LayerNorm): LayerNorm((252,), eps=1e-12, elementwise_affine=True)\n",
       "              (dropout): Dropout(p=0.1, inplace=False)\n",
       "            )\n",
       "          )\n",
       "          (intermediate): BertIntermediate(\n",
       "            (dense): Linear(in_features=252, out_features=3072, bias=True)\n",
       "          )\n",
       "          (output): BertOutput(\n",
       "            (dense): Linear(in_features=3072, out_features=252, bias=True)\n",
       "            (LayerNorm): LayerNorm((252,), eps=1e-12, elementwise_affine=True)\n",
       "            (dropout): Dropout(p=0.1, inplace=False)\n",
       "          )\n",
       "        )\n",
       "        (3): BertLayer(\n",
       "          (attention): BertAttention(\n",
       "            (self): BertSelfAttention(\n",
       "              (query): Linear(in_features=252, out_features=252, bias=True)\n",
       "              (key): Linear(in_features=252, out_features=252, bias=True)\n",
       "              (value): Linear(in_features=252, out_features=252, bias=True)\n",
       "              (dropout): Dropout(p=0.1, inplace=False)\n",
       "              (distance_embedding): Embedding(99, 42)\n",
       "            )\n",
       "            (output): BertSelfOutput(\n",
       "              (dense): Linear(in_features=252, out_features=252, bias=True)\n",
       "              (LayerNorm): LayerNorm((252,), eps=1e-12, elementwise_affine=True)\n",
       "              (dropout): Dropout(p=0.1, inplace=False)\n",
       "            )\n",
       "          )\n",
       "          (intermediate): BertIntermediate(\n",
       "            (dense): Linear(in_features=252, out_features=3072, bias=True)\n",
       "          )\n",
       "          (output): BertOutput(\n",
       "            (dense): Linear(in_features=3072, out_features=252, bias=True)\n",
       "            (LayerNorm): LayerNorm((252,), eps=1e-12, elementwise_affine=True)\n",
       "            (dropout): Dropout(p=0.1, inplace=False)\n",
       "          )\n",
       "        )\n",
       "      )\n",
       "    )\n",
       "    (pooler): BertPooler(\n",
       "      (dense): Linear(in_features=252, out_features=252, bias=True)\n",
       "      (activation): Tanh()\n",
       "    )\n",
       "  )\n",
       "  (out_linear): Linear(in_features=252, out_features=4, bias=True)\n",
       ")"
      ]
     },
     "execution_count": 54,
     "metadata": {},
     "output_type": "execute_result"
    }
   ],
   "source": [
    "model = BERTClassifier(ntokens)\n",
    "model.to(device)\n",
    "model.load_state_dict(torch.load('./models/bert_mer.pt'))\n",
    "model.eval()"
   ]
  },
  {
   "cell_type": "code",
   "execution_count": 34,
   "id": "0d551adc",
   "metadata": {},
   "outputs": [],
   "source": [
    "# !pip install muspy\n",
    "import muspy"
   ]
  },
  {
   "cell_type": "code",
   "execution_count": 154,
   "id": "bf74ad8e",
   "metadata": {},
   "outputs": [],
   "source": [
    "folder = list(glob.glob('all_samples/cp vgmidi/*.mid'))\n",
    "# labels = [1,2,3,4,1,1,2,3,4]\n",
    "# labels = [1,1,1,1,1,1,2,2,2,2,2,2,3,3,3,3,3,3,4,4,4,4,4,4]\n",
    "# labels = [1,1,1,1,1,1,2,2,2,2,2,2,3,3,3,3,3,3,4,4,4,4,4,4]\n",
    "# labels = [1,1,1,1,2,3,4,1,2,3,4,1,2,3,4]\n",
    "# labels = [1,2,3,4,1,2,3,4,1,2,3,4]\n",
    "# labels = [1,1,1,1,2,2,2,3,3,3,4,4,4]\n",
    "lables = [1,1,1,2,2,2,3,3,3,4,4,4]"
   ]
  },
  {
   "cell_type": "code",
   "execution_count": 155,
   "id": "efb0cfb8",
   "metadata": {},
   "outputs": [],
   "source": [
    "notes, remi_enc = load_files(folder, REMI(pitch_range, additional_tokens = additional_tokens))"
   ]
  },
  {
   "cell_type": "code",
   "execution_count": 156,
   "id": "6e9ceb70",
   "metadata": {},
   "outputs": [],
   "source": [
    "test_corpus = REMICorpus(notes, labels, remi_enc, 20)"
   ]
  },
  {
   "cell_type": "code",
   "execution_count": 157,
   "id": "b143795e",
   "metadata": {},
   "outputs": [],
   "source": [
    "batch_size = 32\n",
    "\n",
    "test_dataloader = DataLoader(\n",
    "    test_corpus,\n",
    "    sampler=SequentialSampler(notes),\n",
    "    batch_size=batch_size,\n",
    ")"
   ]
  },
  {
   "cell_type": "code",
   "execution_count": 158,
   "id": "a96ff402",
   "metadata": {},
   "outputs": [
    {
     "name": "stdout",
     "output_type": "stream",
     "text": [
      " Testing Accuracy: 0.1250000\n"
     ]
    }
   ],
   "source": [
    "\n",
    "from sklearn.metrics import accuracy_score, confusion_matrix\n",
    "model.eval()\n",
    "cms = torch.zeros((4,4))\n",
    "def eval(cms):\n",
    "    batches = len(test_dataloader)\n",
    "        \n",
    "    total_loss, total_acc  = 0, 0\n",
    "\n",
    "    with torch.no_grad():\n",
    "        for bidx, (xtest, ytest)  in enumerate(test_dataloader): \n",
    "            xtest.to(device)\n",
    "            ytest.to(device)\n",
    "\n",
    "            attn_mask =  (xtest != pad_token).float().to(device)  \n",
    "\n",
    "            y = model(xtest, attn_mask)\n",
    "\n",
    "            y_pred = np.argmax(y.cpu().detach(), axis=-1)\n",
    "            y_pred = y_pred.type(torch.float)\n",
    "\n",
    "            acc = accuracy_score(ytest, y_pred)\n",
    "\n",
    "            total_acc += acc\n",
    "\n",
    "\n",
    "    total_acc = (total_acc / batches)\n",
    "\n",
    "    \n",
    "    print(f\" Testing Accuracy: {total_acc:.7f}\")\n",
    "\n",
    "    # return cms\n",
    "eval(cms)"
   ]
  }
 ],
 "metadata": {
  "kernelspec": {
   "display_name": "Python 3",
   "language": "python",
   "name": "python3"
  },
  "language_info": {
   "codemirror_mode": {
    "name": "ipython",
    "version": 3
   },
   "file_extension": ".py",
   "mimetype": "text/x-python",
   "name": "python",
   "nbconvert_exporter": "python",
   "pygments_lexer": "ipython3",
   "version": "3.8.8"
  },
  "papermill": {
   "default_parameters": {},
   "duration": 106.840771,
   "end_time": "2022-02-02T19:59:15.470216",
   "environment_variables": {},
   "exception": true,
   "input_path": "__notebook__.ipynb",
   "output_path": "__notebook__.ipynb",
   "parameters": {},
   "start_time": "2022-02-02T19:57:28.629445",
   "version": "2.3.3"
  }
 },
 "nbformat": 4,
 "nbformat_minor": 5
}
