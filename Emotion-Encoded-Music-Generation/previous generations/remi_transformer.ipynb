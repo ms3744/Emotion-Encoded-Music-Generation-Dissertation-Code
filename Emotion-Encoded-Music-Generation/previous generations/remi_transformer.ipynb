{
 "cells": [
  {
   "cell_type": "markdown",
   "id": "76ebe6d7",
   "metadata": {},
   "source": [
    "# Emotion Conditioned Music Generation\n",
    "This notebook provides the code for implementing a Transformer-GAN for the dissertation. The objective of the model is to produce sentimental music given an input emotion\n",
    "\n",
    "## Importing libraries"
   ]
  },
  {
   "cell_type": "code",
   "execution_count": 101,
   "id": "73cce86a",
   "metadata": {
    "execution": {
     "iopub.execute_input": "2022-02-02T19:57:35.774827Z",
     "iopub.status.busy": "2022-02-02T19:57:35.773338Z",
     "iopub.status.idle": "2022-02-02T19:58:25.190118Z",
     "shell.execute_reply": "2022-02-02T19:58:25.189477Z",
     "shell.execute_reply.started": "2022-02-02T17:01:25.429004Z"
    },
    "papermill": {
     "duration": 49.470062,
     "end_time": "2022-02-02T19:58:25.190293",
     "exception": false,
     "start_time": "2022-02-02T19:57:35.720231",
     "status": "completed"
    },
    "tags": []
   },
   "outputs": [],
   "source": [
    "# !pip install music21 miditoolkit miditok"
   ]
  },
  {
   "cell_type": "code",
   "execution_count": 102,
   "id": "5f5b767b",
   "metadata": {},
   "outputs": [],
   "source": [
    "# !pip uninstall torch\n",
    "# !pip install --user torch==1.7.0 torchvision==0.8.1 -f https://download.pytorch.org/whl/cu102/torch_stable.html"
   ]
  },
  {
   "cell_type": "code",
   "execution_count": 103,
   "id": "5726c5ed",
   "metadata": {},
   "outputs": [],
   "source": [
    "# !pip install numpy pandas tensorflow sklearn"
   ]
  },
  {
   "cell_type": "code",
   "execution_count": 1,
   "id": "623e6006",
   "metadata": {
    "_cell_guid": "b1076dfc-b9ad-4769-8c92-a6c4dae69d19",
    "_uuid": "8f2839f25d086af736a60e9eeb907d3b93b6e0e5",
    "execution": {
     "iopub.execute_input": "2022-02-02T19:58:25.393046Z",
     "iopub.status.busy": "2022-02-02T19:58:25.392169Z",
     "iopub.status.idle": "2022-02-02T19:58:34.251523Z",
     "shell.execute_reply": "2022-02-02T19:58:34.250961Z",
     "shell.execute_reply.started": "2022-02-02T17:02:12.062192Z"
    },
    "papermill": {
     "duration": 8.962224,
     "end_time": "2022-02-02T19:58:34.251664",
     "exception": false,
     "start_time": "2022-02-02T19:58:25.289440",
     "status": "completed"
    },
    "tags": []
   },
   "outputs": [],
   "source": [
    "import numpy as np \n",
    "import pandas as pd \n",
    "from io import open\n",
    "import tensorflow as tf\n",
    "import glob\n",
    "\n",
    "\n",
    "import os\n",
    "import torch\n",
    "import torch.nn as nn\n",
    "import torch.nn.functional as F\n",
    "import math\n",
    "import time\n",
    "from miditok import get_midi_programs, REMI\n",
    "from miditoolkit import MidiFile\n",
    "from torch.nn.utils.rnn import pad_sequence\n",
    "from sklearn.model_selection import train_test_split"
   ]
  },
  {
   "cell_type": "code",
   "execution_count": 2,
   "id": "5e2dade1",
   "metadata": {},
   "outputs": [
    {
     "data": {
      "text/plain": [
       "'1.7.0'"
      ]
     },
     "execution_count": 2,
     "metadata": {},
     "output_type": "execute_result"
    }
   ],
   "source": [
    "torch.__version__"
   ]
  },
  {
   "cell_type": "code",
   "execution_count": 3,
   "id": "92a58fea",
   "metadata": {},
   "outputs": [],
   "source": [
    "device = 'cuda'"
   ]
  },
  {
   "cell_type": "code",
   "execution_count": 4,
   "id": "c5681736",
   "metadata": {},
   "outputs": [],
   "source": [
    "torch.cuda.empty_cache()"
   ]
  },
  {
   "cell_type": "code",
   "execution_count": 5,
   "id": "6d70c676",
   "metadata": {},
   "outputs": [
    {
     "data": {
      "text/plain": [
       "True"
      ]
     },
     "execution_count": 5,
     "metadata": {},
     "output_type": "execute_result"
    }
   ],
   "source": [
    "torch.cuda.is_available()"
   ]
  },
  {
   "cell_type": "code",
   "execution_count": 6,
   "id": "b00bcb12",
   "metadata": {},
   "outputs": [],
   "source": [
    "# Seed\n",
    "# seed = 22\n",
    "# torch.manual_seed(seed)\n",
    "# torch.cuda.manual_seed(seed)\n",
    "# torch.cuda.manual_seed_all(seed)\n",
    "# np.random.seed(seed)\n",
    "# torch.backends.cudnn.benchmark = False\n",
    "# torch.backends.cudnn.deterministic = True"
   ]
  },
  {
   "cell_type": "markdown",
   "id": "51cd2282",
   "metadata": {},
   "source": [
    "## Loading the Dataset"
   ]
  },
  {
   "cell_type": "code",
   "execution_count": 7,
   "id": "528f24ba",
   "metadata": {
    "execution": {
     "iopub.execute_input": "2022-02-02T19:58:34.992588Z",
     "iopub.status.busy": "2022-02-02T19:58:34.991885Z",
     "iopub.status.idle": "2022-02-02T19:58:35.024130Z",
     "shell.execute_reply": "2022-02-02T19:58:35.024622Z",
     "shell.execute_reply.started": "2022-02-01T19:55:02.159239Z"
    },
    "papermill": {
     "duration": 0.199123,
     "end_time": "2022-02-02T19:58:35.024817",
     "exception": false,
     "start_time": "2022-02-02T19:58:34.825694",
     "status": "completed"
    },
    "tags": []
   },
   "outputs": [
    {
     "data": {
      "text/plain": [
       "ticks per beat: 384\n",
       "max tick: 46051\n",
       "tempo changes: 1\n",
       "time sig: 1\n",
       "key sig: 0\n",
       "markers: 0\n",
       "lyrics: False\n",
       "instruments: 1"
      ]
     },
     "execution_count": 7,
     "metadata": {},
     "output_type": "execute_result"
    }
   ],
   "source": [
    "# how a midi file looks like\n",
    "midi = MidiFile('archive/EMOPIA_1.0 (1)/EMOPIA_1.0/midis/Q1__8v0MFBZoco_0.mid')\n",
    "midi"
   ]
  },
  {
   "cell_type": "code",
   "execution_count": 8,
   "id": "2401ae07",
   "metadata": {},
   "outputs": [
    {
     "data": {
      "text/plain": [
       "[Instrument(program=0, is_drum=False, name=\"\")]"
      ]
     },
     "execution_count": 8,
     "metadata": {},
     "output_type": "execute_result"
    }
   ],
   "source": [
    "# for now, we will only be using for piano right since it determines the melody\n",
    "midi.instruments"
   ]
  },
  {
   "cell_type": "code",
   "execution_count": 9,
   "id": "2875ef2c",
   "metadata": {},
   "outputs": [],
   "source": [
    "# file path to the MIDI files\n",
    "files_paths = list(glob.glob('archive/EMOPIA_1.0 (1)/EMOPIA_1.0/midis/*.mid'))\n",
    "# reading labels\n",
    "labels_df = pd.read_csv('archive/EMOPIA_1.0 (1)/EMOPIA_1.0/label.csv')\n",
    "labels_df = list(labels_df['4Q'])"
   ]
  },
  {
   "cell_type": "code",
   "execution_count": 10,
   "id": "13f969d4",
   "metadata": {},
   "outputs": [
    {
     "name": "stdout",
     "output_type": "stream",
     "text": [
      "The unique tempos found in the dataset are:  {120.0}\n",
      "minimum pitch found 22\n",
      "maximum pitch found 105\n"
     ]
    }
   ],
   "source": [
    "import muspy\n",
    "\n",
    "def return_range(music):\n",
    "    h = 0\n",
    "    l = 127\n",
    "    for track in music.tracks:\n",
    "        for note in track.notes:\n",
    "            if note.pitch > h:\n",
    "                h = note.pitch\n",
    "            if note.pitch < l:\n",
    "                l = note.pitch\n",
    "    return [h, l]\n",
    "\n",
    "\n",
    "tempos = []\n",
    "pitches = []\n",
    "\n",
    "for file in files_paths:\n",
    "    music = muspy.read_midi(file)\n",
    "    tempos.append(music.tempos[0].qpm)\n",
    "    pitches.extend(return_range(music))\n",
    "\n",
    "print(\"The unique tempos found in the dataset are: \", set(tempos))\n",
    "print('minimum pitch found', min(pitches))\n",
    "print('maximum pitch found', max(pitches))\n",
    "\n",
    "pitch_range = range(22, 105)\n",
    "additional_tokens = {'Chord': True, 'Rest': True, 'Tempo': True, 'Program': False,\n",
    "                     'rest_range': (2, 4),  # (half, 8 beats)\n",
    "                     'nb_tempos': 32,  # nb of tempo bins\n",
    "                     'tempo_range': (100, 140),\n",
    "                     'TimeSignature':None}  # (min, max)"
   ]
  },
  {
   "cell_type": "code",
   "execution_count": 11,
   "id": "54418a08",
   "metadata": {
    "execution": {
     "iopub.execute_input": "2022-02-02T19:58:35.213504Z",
     "iopub.status.busy": "2022-02-02T19:58:35.212909Z",
     "iopub.status.idle": "2022-02-02T19:59:00.573774Z",
     "shell.execute_reply": "2022-02-02T19:59:00.573213Z",
     "shell.execute_reply.started": "2022-02-02T17:04:02.153938Z"
    },
    "papermill": {
     "duration": 25.455698,
     "end_time": "2022-02-02T19:59:00.573925",
     "exception": false,
     "start_time": "2022-02-02T19:58:35.118227",
     "status": "completed"
    },
    "tags": []
   },
   "outputs": [],
   "source": [
    "# create a list of notes\n",
    "# this stores the REMI encoded tokens of the midi files\n",
    "\n",
    "def load_files(files_paths, encoder = REMI()):\n",
    "    assert len(files_paths) > 0\n",
    "    notes = []\n",
    "\n",
    "    for file in files_paths:\n",
    "        # file_name = os.path.basename(file)\n",
    "\n",
    "        # read the MIDI file\n",
    "        midi = MidiFile(file)\n",
    "\n",
    "        # Converts MIDI to tokens\n",
    "        tokens = encoder.midi_to_tokens(midi)\n",
    "        \n",
    "        # The EMOPIA dataset has midi files with only one instrument, i.e. the piano \n",
    "        # hence we just add those tokens\n",
    "        notes.append(tokens[0])\n",
    "\n",
    "    return notes, encoder"
   ]
  },
  {
   "cell_type": "code",
   "execution_count": 13,
   "id": "69917162",
   "metadata": {},
   "outputs": [],
   "source": [
    "notes, remi_enc = load_files(files_paths, REMI(pitch_range=pitch_range, additional_tokens=additional_tokens))"
   ]
  },
  {
   "cell_type": "code",
   "execution_count": 14,
   "id": "a3d9b808",
   "metadata": {
    "execution": {
     "iopub.execute_input": "2022-02-02T19:59:01.757463Z",
     "iopub.status.busy": "2022-02-02T19:59:01.756729Z",
     "iopub.status.idle": "2022-02-02T19:59:01.759444Z",
     "shell.execute_reply": "2022-02-02T19:59:01.759843Z",
     "shell.execute_reply.started": "2022-02-02T17:06:14.781954Z"
    },
    "papermill": {
     "duration": 0.098923,
     "end_time": "2022-02-02T19:59:01.759981",
     "exception": false,
     "start_time": "2022-02-02T19:59:01.661058",
     "status": "completed"
    },
    "tags": []
   },
   "outputs": [
    {
     "name": "stdout",
     "output_type": "stream",
     "text": [
      "There are 267 unique tokens in the files\n"
     ]
    }
   ],
   "source": [
    "print(\"There are\",len(remi_enc.vocab),\"unique tokens in the files\")"
   ]
  },
  {
   "cell_type": "code",
   "execution_count": 15,
   "id": "627e7f4f",
   "metadata": {
    "execution": {
     "iopub.execute_input": "2022-02-02T19:59:02.145710Z",
     "iopub.status.busy": "2022-02-02T19:59:02.144060Z",
     "iopub.status.idle": "2022-02-02T19:59:02.146289Z",
     "shell.execute_reply": "2022-02-02T19:59:02.146719Z",
     "shell.execute_reply.started": "2022-02-02T17:53:06.340581Z"
    },
    "papermill": {
     "duration": 0.101832,
     "end_time": "2022-02-02T19:59:02.146867",
     "exception": false,
     "start_time": "2022-02-02T19:59:02.045035",
     "status": "completed"
    },
    "tags": []
   },
   "outputs": [],
   "source": [
    "# Create a dataset corpus from the notes and labels\n",
    "from torch.utils.data import DataLoader, Dataset, SequentialSampler\n",
    "\n",
    "class Corpus(Dataset):\n",
    "    def __init__(self, notes, labels, encoder, seq_length):\n",
    "        self.encoder = encoder\n",
    "        self.seq_len = seq_length\n",
    "\n",
    "       \n",
    "        self.xtrain, self.ytrain= self.tokenize(notes, labels)\n",
    "        # self.xtest, self.ytest, _, _ = self.tokenize(ntest, ltest)\n",
    "        # self.xvalid = self.tokenize(ntest, ltest)\n",
    "   \n",
    "    def __len__(self):\n",
    "        return len(self.encoder.vocab)\n",
    "\n",
    "    def len_dataset(self):\n",
    "        return len(self.xtrain)\n",
    "   \n",
    "    def __getitem__(self, index, ):\n",
    "        return self.xtrain[index], self.ytrain[index]\n",
    "   \n",
    "    def tokenize(self, notes, labels):\n",
    "        assert len(notes) > 0\n",
    "        assert len(labels) > 0\n",
    "\n",
    "        # create a set of notes\n",
    "        # they should all be padded to have sequence of len seq_len\n",
    "        songss = []\n",
    "        labelss = []\n",
    "\n",
    "        for song, label in zip(notes, labels):\n",
    "            song = torch.tensor(song).type(torch.int64)\n",
    "            songs = list(song.split(self.seq_len))\n",
    "\n",
    "            for i in range(len(songs)):\n",
    "                # removing sequences that have < seq len/4 tokens\n",
    "                if len(songs[i]) < self.seq_len/4:\n",
    "                    del songs[i]\n",
    "                    continue\n",
    "                labelss.append(label-1)\n",
    "            songss.extend(songs)\n",
    "       \n",
    "        # padding songs to be of same length\n",
    "        songs = pad_sequence(songss)\n",
    "\n",
    "        corpus = []\n",
    "\n",
    "        # adding emotion values to the sequences\n",
    "        for song, label in zip(songs.view(songs.size(1), songs.size(0)), labelss):\n",
    "            l = torch.full((self.seq_len,1), label)\n",
    "            song = song.view(song.size(0), 1)\n",
    "            inp = torch.cat([song, l], dim=-1)\n",
    "            corpus.append(inp)\n",
    "\n",
    "        corpus = torch.stack(corpus)\n",
    "\n",
    "\n",
    "        data = corpus[:,:self.seq_len - 1, :]\n",
    "        target = corpus[:,1:self.seq_len, :]\n",
    "\n",
    "        return data, target"
   ]
  },
  {
   "cell_type": "code",
   "execution_count": 16,
   "id": "a0072540",
   "metadata": {
    "execution": {
     "iopub.execute_input": "2022-02-02T19:59:02.350085Z",
     "iopub.status.busy": "2022-02-02T19:59:02.349327Z",
     "iopub.status.idle": "2022-02-02T19:59:02.547361Z",
     "shell.execute_reply": "2022-02-02T19:59:02.547868Z",
     "shell.execute_reply.started": "2022-02-02T17:53:07.695073Z"
    },
    "papermill": {
     "duration": 0.308022,
     "end_time": "2022-02-02T19:59:02.548041",
     "exception": false,
     "start_time": "2022-02-02T19:59:02.240019",
     "status": "completed"
    },
    "tags": []
   },
   "outputs": [
    {
     "name": "stdout",
     "output_type": "stream",
     "text": [
      "train data shape: torch.Size([10484, 80, 2])\n",
      "test data shape: torch.Size([4552, 80, 2])\n",
      "train data shape: torch.Size([10484, 80, 2])\n",
      "test data shape: torch.Size([4552, 80, 2])\n"
     ]
    }
   ],
   "source": [
    "ntrain, ntest, ltrain, ltest = train_test_split(notes, labels_df, test_size=0.3, random_state=42, shuffle=True, stratify=labels_df)\n",
    "train_corpus = Corpus(ntrain, ltrain, remi_enc, 81)\n",
    "val_corpus = Corpus(ntest, ltest, remi_enc, 81)\n",
    "\n",
    "xtest = val_corpus.xtrain\n",
    "xtrain = train_corpus.xtrain\n",
    "\n",
    "\n",
    "print(\"train data shape:\", train_corpus.xtrain.shape)\n",
    "print(\"test data shape:\", val_corpus.xtrain.shape)\n",
    "print(\"train data shape:\", train_corpus.ytrain.shape)\n",
    "print(\"test data shape:\", val_corpus.ytrain.shape)"
   ]
  },
  {
   "cell_type": "code",
   "execution_count": 17,
   "id": "35102c56",
   "metadata": {},
   "outputs": [],
   "source": [
    "batch_size = 32\n",
    "# creating a dataloader\n",
    "train_dataloader = DataLoader(\n",
    "    train_corpus,\n",
    "    sampler=SequentialSampler(xtrain),\n",
    "    batch_size=batch_size,\n",
    ")\n",
    "val_dataloader = DataLoader(\n",
    "    val_corpus,\n",
    "    sampler=SequentialSampler(xtest),\n",
    "    batch_size=batch_size,\n",
    ")"
   ]
  },
  {
   "cell_type": "code",
   "execution_count": 18,
   "id": "e1e8bdf9",
   "metadata": {
    "execution": {
     "iopub.execute_input": "2022-02-02T19:59:02.746806Z",
     "iopub.status.busy": "2022-02-02T19:59:02.745183Z",
     "iopub.status.idle": "2022-02-02T19:59:02.749838Z",
     "shell.execute_reply": "2022-02-02T19:59:02.749418Z",
     "shell.execute_reply.started": "2022-02-02T17:53:08.825871Z"
    },
    "papermill": {
     "duration": 0.104443,
     "end_time": "2022-02-02T19:59:02.749958",
     "exception": false,
     "start_time": "2022-02-02T19:59:02.645515",
     "status": "completed"
    },
    "tags": []
   },
   "outputs": [
    {
     "name": "stdout",
     "output_type": "stream",
     "text": [
      "There are total 1078 songs and a total of 15036 sequences extracted\n"
     ]
    }
   ],
   "source": [
    "print(\"There are total\",len(notes), \"songs and a total of\", len(xtest) + len(xtrain), \"sequences extracted\")"
   ]
  },
  {
   "cell_type": "markdown",
   "id": "f054c0b7",
   "metadata": {},
   "source": [
    "## Model Building\n",
    "\n",
    "### Constants"
   ]
  },
  {
   "cell_type": "code",
   "execution_count": 19,
   "id": "86a292fb",
   "metadata": {},
   "outputs": [],
   "source": [
    "# NEW for every type of token: corpus and emotion\n",
    "ntokens = [len(train_corpus), 4]\n",
    "\n",
    "emsize = 512\n",
    "nhead = 4\n",
    "nhid = 512\n",
    "nlayer = 8\n",
    "dropout = 0.2\n",
    "# Loop over epochs.\n",
    "lr = 0.001\n",
    "best_val_loss = None\n",
    "epochs = 120\n",
    "save = './model.pt'\n",
    "criterion = nn.CrossEntropyLoss()\n",
    "device = device\n"
   ]
  },
  {
   "cell_type": "markdown",
   "id": "474c16e3",
   "metadata": {},
   "source": [
    "### Position Encoding"
   ]
  },
  {
   "cell_type": "code",
   "execution_count": 20,
   "id": "bf5942fe",
   "metadata": {},
   "outputs": [],
   "source": [
    "# adapted from the pytorch positional encoding class\n",
    "class PositionalEncoding(nn.Module):\n",
    "\n",
    "    def __init__(self, d_model, dropout=0.1, max_len=5000):\n",
    "        super(PositionalEncoding, self).__init__()\n",
    "        self.dropout = nn.Dropout(p=dropout)\n",
    "\n",
    "        # PE is the Positional Encoding matrix \n",
    "        # THIS STORES THE POSITIONS OF THE SEQUENCE\n",
    "        pe = torch.zeros(max_len, d_model)\n",
    "\n",
    "        # Arange - RETURNS A RANGE BETWEEN VALUES, HERE IT IS 0 - max_len\n",
    "        # unsqueeze - adds a dimension, 1 means that each element in the first list is now in a list\n",
    "        position = torch.arange(0, max_len, dtype=torch.float).unsqueeze(1)\n",
    "        # division term, here it is (10000 ** ((2 * i)/d_model))\n",
    "        div_term = torch.exp(torch.arange(0, d_model, 2).float() * (-math.log(10000.0) / d_model))\n",
    "\n",
    "        # calculating the position encoding for the even and odd terms        \n",
    "        pe[:, 0::2] = torch.sin(position * div_term)\n",
    "        pe[:, 1::2] = torch.cos(position * div_term)\n",
    "        # Unsqueeze 0 will put PE in one list\n",
    "        pe = pe.unsqueeze(0).transpose(0, 1)\n",
    "        self.register_buffer('pe', pe)\n",
    "\n",
    "    def forward(self, x):\n",
    "        # make embeddings relatively larger\n",
    "        # This is so we do not lose the importance of the embedding\n",
    "        # we add the embedding to the PE \n",
    "        x = x + self.pe[:x.size(0), :]\n",
    "        return self.dropout(x)"
   ]
  },
  {
   "cell_type": "code",
   "execution_count": 29,
   "id": "22bf7111",
   "metadata": {},
   "outputs": [],
   "source": [
    "class REMITransformer(nn.Module):\n",
    "    \"\"\"Container module with an encoder, a recurrent or transformer module, and a decoder.\"\"\"\n",
    "\n",
    "    def __init__(self, ntoken, d_model, nhead, nlayers, dropout=0.5, max_length = 100, device = device):\n",
    "        super(REMITransformer, self).__init__()\n",
    "        try:\n",
    "            from torch.nn import TransformerEncoder, TransformerEncoderLayer\n",
    "        except:\n",
    "            raise ImportError('TransformerEncoder module does not exist in PyTorch 1.1 or lower.')\n",
    "\n",
    "        # original mask\n",
    "        self.src_mask = None\n",
    "        self.max_length = max_length\n",
    "        self.d_model = d_model\n",
    "        self.nlayers = nlayers\n",
    "        self.ntokens = ntoken\n",
    "\n",
    "        self.device = device\n",
    "\n",
    "        # NEW criterion and embedding size\n",
    "        self.criterion = nn.CrossEntropyLoss(reduction='none')\n",
    "        # CHANGED: using embedding size and reshaping vector\n",
    "        self.embed_siz = [128, 128]\n",
    "\n",
    "        # embedding encoding\n",
    "        self.embedding_notes  = nn.Embedding(self.ntokens[0], self.embed_siz[0])\n",
    "        self.embedding_emotion   = nn.Embedding(self.ntokens[1], self.embed_siz[1])\n",
    "        \n",
    "        self.in_linear = nn.Linear(np.sum(self.embed_siz), d_model)\n",
    "        # positional encoding\n",
    "        self.pos_encoder = PositionalEncoding(d_model, dropout)\n",
    "\n",
    "        # in linear layer\n",
    "        # CHANGED: using this to convert one hot encoding of emotions batch * 5 -> linear transformation of emotions batch * \n",
    "        # TODO\n",
    "        self.linear = nn.Linear(np.sum(self.embed_siz), self.d_model)\n",
    "        \n",
    "        # encoder\n",
    "        encoder_layer = TransformerEncoderLayer(d_model = d_model, nhead = nhead, dropout = dropout)\n",
    "        self.encoder = TransformerEncoder(encoder_layer, nlayers)\n",
    "\n",
    "        # output layers\n",
    "        self.project_notes = nn.Linear(d_model, ntoken[0])\n",
    "        self.project_emo = nn.Linear(d_model, ntoken[1])\n",
    "        \n",
    "        \n",
    "        self.init_weights()\n",
    "    \n",
    "    def compute_loss(self, predict, target):\n",
    "        loss = self.criterion(predict, target)\n",
    "        return torch.sum(loss)\n",
    "            \n",
    "\n",
    "    def _generate_square_subsequent_mask(self, sz):\n",
    "        mask = torch.triu(torch.ones(sz, sz) * float('-inf'), diagonal=1)\n",
    "        return mask\n",
    "\n",
    "    def init_weights(self):\n",
    "        initrange = 0.1\n",
    "        nn.init.uniform_(self.embedding_notes.weight, -initrange, initrange)\n",
    "        nn.init.uniform_(self.embedding_emotion.weight, -initrange, initrange)\n",
    "     \n",
    "        self.linear.bias.data.zero_()\n",
    "        self.linear.weight.data.uniform_(-initrange, initrange)\n",
    "        self.project_notes.bias.data.zero_()\n",
    "        self.project_notes.weight.data.uniform_(-initrange, initrange)\n",
    "        self.project_emo.bias.data.zero_()\n",
    "        self.project_emo.weight.data.uniform_(-initrange, initrange)\n",
    "\n",
    "    def forward(self, x_note, x_emo, src_mask = None):\n",
    "        # creating embedding for the notes and emotions\n",
    "        x_note = self.embedding_notes(x_note)\n",
    "        x_emo = self.embedding_emotion(x_emo)\n",
    "\n",
    "        # normalising the input for the position encoding\n",
    "        x_note = x_note * math.sqrt(self.d_model)\n",
    "        x_emo = x_emo * math.sqrt(self.d_model)\n",
    "\n",
    "        # concatenating as one input\n",
    "        x = torch.cat([x_note, x_emo], dim=-1)\n",
    "\n",
    "        # sending through linear layer\n",
    "        x = self.in_linear(x)\n",
    "\n",
    "        x = self.pos_encoder(x)\n",
    "\n",
    "        # print(x.shape)\n",
    "        # print(x.view(x.size(1), x.size(0), x.size(2)).shape)\n",
    "        # print(x)\n",
    "        # print()\n",
    "\n",
    "        if src_mask == None:\n",
    "            src_mask = self._generate_square_subsequent_mask(x.size(1)).to(self.device)\n",
    "            \n",
    "        self.src_mask = src_mask\n",
    "\n",
    "        output = self.encoder(x.view(x.size(1), x.size(0), x.size(2)), self.src_mask)\n",
    "\n",
    "        y_notes = self.project_notes(output)\n",
    "        y_emo = self.project_emo(output)\n",
    "\n",
    "        # y_notes = F.log_softmax(y_notes, dim=-1)\n",
    "        # y_emo = F.log_softmax(y_emo, dim=-1)\n",
    "\n",
    "        return y_notes, y_emo"
   ]
  },
  {
   "cell_type": "code",
   "execution_count": 30,
   "id": "d232eebf",
   "metadata": {
    "execution": {
     "iopub.execute_input": "2022-02-02T18:47:00.165980Z",
     "iopub.status.busy": "2022-02-02T18:47:00.165697Z",
     "iopub.status.idle": "2022-02-02T18:47:00.172316Z",
     "shell.execute_reply": "2022-02-02T18:47:00.170937Z",
     "shell.execute_reply.started": "2022-02-02T18:47:00.165951Z"
    },
    "papermill": {
     "duration": null,
     "end_time": null,
     "exception": null,
     "start_time": null,
     "status": "pending"
    },
    "tags": []
   },
   "outputs": [],
   "source": [
    "# get_batch subdivides the source data into chunks of length args.bptt.\n",
    "# If source is equal to the example output of the batchify function, with\n",
    "# a bptt-limit of 2, we'd get the following two Variables for i = 0:\n",
    "# ┌ a g m s ┐ ┌ b h n t ┐\n",
    "# └ b h n t ┘ └ c i o u ┘\n",
    "# Note that despite the name of the function, the subdivison of data is not\n",
    "# done along the batch dimension (i.e. dimension 1), since that was handled\n",
    "# by the batchify function. The chunks are along dimension 0, corresponding\n",
    "# to the seq_len dimension in the LSTM.\n",
    "def get_batch(source, batch_size):\n",
    "    rand_columns = torch.randperm(source.size(0))[:batch_size]\n",
    "    # batch_size = min(batch_size, len(source) - 1 - i)\n",
    "    data = source[rand_columns,:source.size(1)-1, :]\n",
    "    target = source[rand_columns,1:source.size(1), :]\n",
    "    return data, target"
   ]
  },
  {
   "cell_type": "code",
   "execution_count": 31,
   "id": "1d61cf74",
   "metadata": {
    "execution": {
     "iopub.execute_input": "2022-02-02T18:47:04.353741Z",
     "iopub.status.busy": "2022-02-02T18:47:04.353266Z",
     "iopub.status.idle": "2022-02-02T18:47:04.358533Z",
     "shell.execute_reply": "2022-02-02T18:47:04.357812Z",
     "shell.execute_reply.started": "2022-02-02T18:47:04.353704Z"
    },
    "papermill": {
     "duration": null,
     "end_time": null,
     "exception": null,
     "start_time": null,
     "status": "pending"
    },
    "tags": []
   },
   "outputs": [],
   "source": [
    "def generate_square_subsequent_mask(sz):\n",
    "    \"\"\"Generates an upper-triangular matrix of -inf, with zeros on diag.\"\"\"\n",
    "    return torch.triu(torch.ones(sz, sz) * float('-inf'), diagonal=1)"
   ]
  },
  {
   "cell_type": "code",
   "execution_count": 32,
   "id": "e46fb3b0",
   "metadata": {},
   "outputs": [
    {
     "data": {
      "text/plain": [
       "REMITransformer(\n",
       "  (criterion): CrossEntropyLoss()\n",
       "  (embedding_notes): Embedding(267, 128)\n",
       "  (embedding_emotion): Embedding(4, 128)\n",
       "  (in_linear): Linear(in_features=256, out_features=512, bias=True)\n",
       "  (pos_encoder): PositionalEncoding(\n",
       "    (dropout): Dropout(p=0.2, inplace=False)\n",
       "  )\n",
       "  (linear): Linear(in_features=256, out_features=512, bias=True)\n",
       "  (encoder): TransformerEncoder(\n",
       "    (layers): ModuleList(\n",
       "      (0): TransformerEncoderLayer(\n",
       "        (self_attn): MultiheadAttention(\n",
       "          (out_proj): _LinearWithBias(in_features=512, out_features=512, bias=True)\n",
       "        )\n",
       "        (linear1): Linear(in_features=512, out_features=2048, bias=True)\n",
       "        (dropout): Dropout(p=0.2, inplace=False)\n",
       "        (linear2): Linear(in_features=2048, out_features=512, bias=True)\n",
       "        (norm1): LayerNorm((512,), eps=1e-05, elementwise_affine=True)\n",
       "        (norm2): LayerNorm((512,), eps=1e-05, elementwise_affine=True)\n",
       "        (dropout1): Dropout(p=0.2, inplace=False)\n",
       "        (dropout2): Dropout(p=0.2, inplace=False)\n",
       "      )\n",
       "      (1): TransformerEncoderLayer(\n",
       "        (self_attn): MultiheadAttention(\n",
       "          (out_proj): _LinearWithBias(in_features=512, out_features=512, bias=True)\n",
       "        )\n",
       "        (linear1): Linear(in_features=512, out_features=2048, bias=True)\n",
       "        (dropout): Dropout(p=0.2, inplace=False)\n",
       "        (linear2): Linear(in_features=2048, out_features=512, bias=True)\n",
       "        (norm1): LayerNorm((512,), eps=1e-05, elementwise_affine=True)\n",
       "        (norm2): LayerNorm((512,), eps=1e-05, elementwise_affine=True)\n",
       "        (dropout1): Dropout(p=0.2, inplace=False)\n",
       "        (dropout2): Dropout(p=0.2, inplace=False)\n",
       "      )\n",
       "      (2): TransformerEncoderLayer(\n",
       "        (self_attn): MultiheadAttention(\n",
       "          (out_proj): _LinearWithBias(in_features=512, out_features=512, bias=True)\n",
       "        )\n",
       "        (linear1): Linear(in_features=512, out_features=2048, bias=True)\n",
       "        (dropout): Dropout(p=0.2, inplace=False)\n",
       "        (linear2): Linear(in_features=2048, out_features=512, bias=True)\n",
       "        (norm1): LayerNorm((512,), eps=1e-05, elementwise_affine=True)\n",
       "        (norm2): LayerNorm((512,), eps=1e-05, elementwise_affine=True)\n",
       "        (dropout1): Dropout(p=0.2, inplace=False)\n",
       "        (dropout2): Dropout(p=0.2, inplace=False)\n",
       "      )\n",
       "      (3): TransformerEncoderLayer(\n",
       "        (self_attn): MultiheadAttention(\n",
       "          (out_proj): _LinearWithBias(in_features=512, out_features=512, bias=True)\n",
       "        )\n",
       "        (linear1): Linear(in_features=512, out_features=2048, bias=True)\n",
       "        (dropout): Dropout(p=0.2, inplace=False)\n",
       "        (linear2): Linear(in_features=2048, out_features=512, bias=True)\n",
       "        (norm1): LayerNorm((512,), eps=1e-05, elementwise_affine=True)\n",
       "        (norm2): LayerNorm((512,), eps=1e-05, elementwise_affine=True)\n",
       "        (dropout1): Dropout(p=0.2, inplace=False)\n",
       "        (dropout2): Dropout(p=0.2, inplace=False)\n",
       "      )\n",
       "      (4): TransformerEncoderLayer(\n",
       "        (self_attn): MultiheadAttention(\n",
       "          (out_proj): _LinearWithBias(in_features=512, out_features=512, bias=True)\n",
       "        )\n",
       "        (linear1): Linear(in_features=512, out_features=2048, bias=True)\n",
       "        (dropout): Dropout(p=0.2, inplace=False)\n",
       "        (linear2): Linear(in_features=2048, out_features=512, bias=True)\n",
       "        (norm1): LayerNorm((512,), eps=1e-05, elementwise_affine=True)\n",
       "        (norm2): LayerNorm((512,), eps=1e-05, elementwise_affine=True)\n",
       "        (dropout1): Dropout(p=0.2, inplace=False)\n",
       "        (dropout2): Dropout(p=0.2, inplace=False)\n",
       "      )\n",
       "      (5): TransformerEncoderLayer(\n",
       "        (self_attn): MultiheadAttention(\n",
       "          (out_proj): _LinearWithBias(in_features=512, out_features=512, bias=True)\n",
       "        )\n",
       "        (linear1): Linear(in_features=512, out_features=2048, bias=True)\n",
       "        (dropout): Dropout(p=0.2, inplace=False)\n",
       "        (linear2): Linear(in_features=2048, out_features=512, bias=True)\n",
       "        (norm1): LayerNorm((512,), eps=1e-05, elementwise_affine=True)\n",
       "        (norm2): LayerNorm((512,), eps=1e-05, elementwise_affine=True)\n",
       "        (dropout1): Dropout(p=0.2, inplace=False)\n",
       "        (dropout2): Dropout(p=0.2, inplace=False)\n",
       "      )\n",
       "      (6): TransformerEncoderLayer(\n",
       "        (self_attn): MultiheadAttention(\n",
       "          (out_proj): _LinearWithBias(in_features=512, out_features=512, bias=True)\n",
       "        )\n",
       "        (linear1): Linear(in_features=512, out_features=2048, bias=True)\n",
       "        (dropout): Dropout(p=0.2, inplace=False)\n",
       "        (linear2): Linear(in_features=2048, out_features=512, bias=True)\n",
       "        (norm1): LayerNorm((512,), eps=1e-05, elementwise_affine=True)\n",
       "        (norm2): LayerNorm((512,), eps=1e-05, elementwise_affine=True)\n",
       "        (dropout1): Dropout(p=0.2, inplace=False)\n",
       "        (dropout2): Dropout(p=0.2, inplace=False)\n",
       "      )\n",
       "      (7): TransformerEncoderLayer(\n",
       "        (self_attn): MultiheadAttention(\n",
       "          (out_proj): _LinearWithBias(in_features=512, out_features=512, bias=True)\n",
       "        )\n",
       "        (linear1): Linear(in_features=512, out_features=2048, bias=True)\n",
       "        (dropout): Dropout(p=0.2, inplace=False)\n",
       "        (linear2): Linear(in_features=2048, out_features=512, bias=True)\n",
       "        (norm1): LayerNorm((512,), eps=1e-05, elementwise_affine=True)\n",
       "        (norm2): LayerNorm((512,), eps=1e-05, elementwise_affine=True)\n",
       "        (dropout1): Dropout(p=0.2, inplace=False)\n",
       "        (dropout2): Dropout(p=0.2, inplace=False)\n",
       "      )\n",
       "    )\n",
       "  )\n",
       "  (project_notes): Linear(in_features=512, out_features=267, bias=True)\n",
       "  (project_emo): Linear(in_features=512, out_features=4, bias=True)\n",
       ")"
      ]
     },
     "execution_count": 32,
     "metadata": {},
     "output_type": "execute_result"
    }
   ],
   "source": [
    "model = REMITransformer(ntokens, emsize, nhead, nlayer, dropout, device=device)\n",
    "model.to(device)"
   ]
  },
  {
   "cell_type": "code",
   "execution_count": 33,
   "id": "3c07698a",
   "metadata": {},
   "outputs": [],
   "source": [
    "optim = torch.optim.Adam(model.parameters(), lr = lr)\n",
    "scheduler = torch.optim.lr_scheduler.StepLR(optim, 1.0, gamma = 0.95)"
   ]
  },
  {
   "cell_type": "code",
   "execution_count": 34,
   "id": "028e0b09",
   "metadata": {},
   "outputs": [],
   "source": [
    "import torch\n",
    "from torch.utils.tensorboard import SummaryWriter\n",
    "writer = SummaryWriter()"
   ]
  },
  {
   "cell_type": "code",
   "execution_count": 35,
   "id": "3b03b051",
   "metadata": {},
   "outputs": [
    {
     "name": "stdout",
     "output_type": "stream",
     "text": [
      "There are 25655951 parameters in the model\n"
     ]
    }
   ],
   "source": [
    "def network_paras(model):\n",
    "    # compute only trainable params\n",
    "    model_parameters = filter(lambda p: p.requires_grad, model.parameters())\n",
    "    params = sum([np.prod(p.size()) for p in model_parameters])\n",
    "    return params\n",
    "\n",
    "print(\"There are\",network_paras(model),\"parameters in the model\")"
   ]
  },
  {
   "cell_type": "markdown",
   "id": "d8af7b94",
   "metadata": {},
   "source": [
    "## Training"
   ]
  },
  {
   "cell_type": "code",
   "execution_count": 28,
   "id": "4c626cbb",
   "metadata": {},
   "outputs": [],
   "source": [
    "def train(model, epochs = 10):\n",
    "    \n",
    "    model.train()  # turn on train mode\n",
    "    \n",
    "    for epoch in range(epochs):\n",
    "        total_loss = 0.\n",
    "        log_interval = 1\n",
    "        start_time = time.time()\n",
    "        per_batch = 20\n",
    "        # src_mask = generate_square_subsequent_mask(2047).to(device)\n",
    "        \n",
    "\n",
    "        num_batches = len(train_dataloader)\n",
    "\n",
    "    \n",
    "        for bidx, (data, targets) in enumerate(train_dataloader):\n",
    "            optim.zero_grad()\n",
    "\n",
    "            src_mask = generate_square_subsequent_mask(data.size(1)).to(device)\n",
    "\n",
    "            output, emotion = model(data[:,:,0].to(device), data[:,:,1].to(device), src_mask.to(device))\n",
    "\n",
    "            loss = criterion(output.view(output.size(1), output.size(2), output.size(0)).cpu(), targets[:,:,0].cpu())\n",
    "            \n",
    "                \n",
    "            writer.add_scalar(\"Loss/output/train\", loss, epoch)\n",
    "\n",
    "            loss.backward(retain_graph = True)\n",
    "\n",
    "            optim.step()\n",
    "\n",
    "            \n",
    "            total_loss += loss\n",
    "\n",
    "            if epoch % log_interval == 0 and epoch > 0:\n",
    "\n",
    "                lr = scheduler.get_last_lr()[0]\n",
    "                ms_per_batch = (time.time() - start_time) * 1000 / log_interval\n",
    "                cur_loss = total_loss / log_interval\n",
    "                ppl = math.exp(cur_loss)\n",
    "\n",
    "                print(f'| epoch {epoch:3d} | '\n",
    "                    f'learning rate {lr:02.4f} | {ms_per_batch:5.2f} ms | '\n",
    "                    f'loss {cur_loss:5.2f}')\n",
    "\n",
    "                total_loss = 0\n",
    "                start_time = time.time()\n",
    " "
   ]
  },
  {
   "cell_type": "code",
   "execution_count": null,
   "id": "519baf28",
   "metadata": {},
   "outputs": [],
   "source": [
    "train(model)"
   ]
  },
  {
   "cell_type": "markdown",
   "id": "55192aec",
   "metadata": {},
   "source": [
    "Output of 10 epochs\n",
    "| epoch   0 |   200/  518 batches | lr 0.0010 | ms/batch 76.47 | loss  3.47\n",
    "\n",
    "| epoch   0 |   400/  518 batches | lr 0.0010 | ms/batch 74.96 | loss  3.40\n",
    "\n",
    "| epoch   1 |   200/  518 batches | lr 0.0010 | ms/batch 76.83 | loss  3.41\n",
    "\n",
    "| epoch   1 |   400/  518 batches | lr 0.0010 | ms/batch 76.39 | loss  3.39\n",
    "\n",
    "| epoch   2 |   200/  518 batches | lr 0.0010 | ms/batch 76.90 | loss  3.40\n",
    "\n",
    "| epoch   2 |   400/  518 batches | lr 0.0010 | ms/batch 76.97 | loss  3.39\n",
    "\n",
    "| epoch   3 |   200/  518 batches | lr 0.0010 | ms/batch 77.41 | loss  3.40\n",
    "\n",
    "| epoch   3 |   400/  518 batches | lr 0.0010 | ms/batch 76.78 | loss  3.39\n",
    "\n",
    "| epoch   4 |   200/  518 batches | lr 0.0010 | ms/batch 77.85 | loss  3.40\n",
    "\n",
    "| epoch   4 |   400/  518 batches | lr 0.0010 | ms/batch 77.17 | loss  3.39\n",
    "\n",
    "| epoch   5 |   200/  518 batches | lr 0.0010 | ms/batch 77.98 | loss  3.40\n",
    "\n",
    "| epoch   5 |   400/  518 batches | lr 0.0010 | ms/batch 76.91 | loss  3.39\n",
    "\n",
    "| epoch   6 |   200/  518 batches | lr 0.0010 | ms/batch 77.84 | loss  3.40\n",
    "\n",
    "| epoch   6 |   400/  518 batches | lr 0.0010 | ms/batch 77.19 | loss  3.39\n",
    "\n",
    "| epoch   7 |   200/  518 batches | lr 0.0010 | ms/batch 77.90 | loss  3.40\n",
    "\n",
    "| epoch   7 |   400/  518 batches | lr 0.0010 | ms/batch 77.10 | loss  3.39\n",
    "\n",
    "| epoch   8 |   200/  518 batches | lr 0.0010 | ms/batch 77.35 | loss  3.40\n",
    "\n",
    "| epoch   8 |   400/  518 batches | lr 0.0010 | ms/batch 77.11 | loss  3.39\n",
    "\n",
    "| epoch   9 |   200/  518 batches | lr 0.0010 | ms/batch 77.01 | loss  3.40\n",
    "\n",
    "| epoch   9 |   400/  518 batches | lr 0.0010 | ms/batch 77.19 | loss  3.39\n"
   ]
  },
  {
   "cell_type": "code",
   "execution_count": 65,
   "id": "7c4e8690",
   "metadata": {},
   "outputs": [],
   "source": [
    "writer.close()"
   ]
  },
  {
   "cell_type": "code",
   "execution_count": 66,
   "id": "3516a59f",
   "metadata": {},
   "outputs": [
    {
     "name": "stdout",
     "output_type": "stream",
     "text": [
      "Model's state_dict:\n",
      "embedding_notes.weight \t torch.Size([218, 128])\n",
      "embedding_emotion.weight \t torch.Size([4, 128])\n",
      "in_linear.weight \t torch.Size([512, 256])\n",
      "in_linear.bias \t torch.Size([512])\n",
      "pos_encoder.pe \t torch.Size([5000, 1, 512])\n",
      "linear.weight \t torch.Size([512, 256])\n",
      "linear.bias \t torch.Size([512])\n",
      "encoder.layers.0.self_attn.in_proj_weight \t torch.Size([1536, 512])\n",
      "encoder.layers.0.self_attn.in_proj_bias \t torch.Size([1536])\n",
      "encoder.layers.0.self_attn.out_proj.weight \t torch.Size([512, 512])\n",
      "encoder.layers.0.self_attn.out_proj.bias \t torch.Size([512])\n",
      "encoder.layers.0.linear1.weight \t torch.Size([2048, 512])\n",
      "encoder.layers.0.linear1.bias \t torch.Size([2048])\n",
      "encoder.layers.0.linear2.weight \t torch.Size([512, 2048])\n",
      "encoder.layers.0.linear2.bias \t torch.Size([512])\n",
      "encoder.layers.0.norm1.weight \t torch.Size([512])\n",
      "encoder.layers.0.norm1.bias \t torch.Size([512])\n",
      "encoder.layers.0.norm2.weight \t torch.Size([512])\n",
      "encoder.layers.0.norm2.bias \t torch.Size([512])\n",
      "encoder.layers.1.self_attn.in_proj_weight \t torch.Size([1536, 512])\n",
      "encoder.layers.1.self_attn.in_proj_bias \t torch.Size([1536])\n",
      "encoder.layers.1.self_attn.out_proj.weight \t torch.Size([512, 512])\n",
      "encoder.layers.1.self_attn.out_proj.bias \t torch.Size([512])\n",
      "encoder.layers.1.linear1.weight \t torch.Size([2048, 512])\n",
      "encoder.layers.1.linear1.bias \t torch.Size([2048])\n",
      "encoder.layers.1.linear2.weight \t torch.Size([512, 2048])\n",
      "encoder.layers.1.linear2.bias \t torch.Size([512])\n",
      "encoder.layers.1.norm1.weight \t torch.Size([512])\n",
      "encoder.layers.1.norm1.bias \t torch.Size([512])\n",
      "encoder.layers.1.norm2.weight \t torch.Size([512])\n",
      "encoder.layers.1.norm2.bias \t torch.Size([512])\n",
      "encoder.layers.2.self_attn.in_proj_weight \t torch.Size([1536, 512])\n",
      "encoder.layers.2.self_attn.in_proj_bias \t torch.Size([1536])\n",
      "encoder.layers.2.self_attn.out_proj.weight \t torch.Size([512, 512])\n",
      "encoder.layers.2.self_attn.out_proj.bias \t torch.Size([512])\n",
      "encoder.layers.2.linear1.weight \t torch.Size([2048, 512])\n",
      "encoder.layers.2.linear1.bias \t torch.Size([2048])\n",
      "encoder.layers.2.linear2.weight \t torch.Size([512, 2048])\n",
      "encoder.layers.2.linear2.bias \t torch.Size([512])\n",
      "encoder.layers.2.norm1.weight \t torch.Size([512])\n",
      "encoder.layers.2.norm1.bias \t torch.Size([512])\n",
      "encoder.layers.2.norm2.weight \t torch.Size([512])\n",
      "encoder.layers.2.norm2.bias \t torch.Size([512])\n",
      "encoder.layers.3.self_attn.in_proj_weight \t torch.Size([1536, 512])\n",
      "encoder.layers.3.self_attn.in_proj_bias \t torch.Size([1536])\n",
      "encoder.layers.3.self_attn.out_proj.weight \t torch.Size([512, 512])\n",
      "encoder.layers.3.self_attn.out_proj.bias \t torch.Size([512])\n",
      "encoder.layers.3.linear1.weight \t torch.Size([2048, 512])\n",
      "encoder.layers.3.linear1.bias \t torch.Size([2048])\n",
      "encoder.layers.3.linear2.weight \t torch.Size([512, 2048])\n",
      "encoder.layers.3.linear2.bias \t torch.Size([512])\n",
      "encoder.layers.3.norm1.weight \t torch.Size([512])\n",
      "encoder.layers.3.norm1.bias \t torch.Size([512])\n",
      "encoder.layers.3.norm2.weight \t torch.Size([512])\n",
      "encoder.layers.3.norm2.bias \t torch.Size([512])\n",
      "encoder.layers.4.self_attn.in_proj_weight \t torch.Size([1536, 512])\n",
      "encoder.layers.4.self_attn.in_proj_bias \t torch.Size([1536])\n",
      "encoder.layers.4.self_attn.out_proj.weight \t torch.Size([512, 512])\n",
      "encoder.layers.4.self_attn.out_proj.bias \t torch.Size([512])\n",
      "encoder.layers.4.linear1.weight \t torch.Size([2048, 512])\n",
      "encoder.layers.4.linear1.bias \t torch.Size([2048])\n",
      "encoder.layers.4.linear2.weight \t torch.Size([512, 2048])\n",
      "encoder.layers.4.linear2.bias \t torch.Size([512])\n",
      "encoder.layers.4.norm1.weight \t torch.Size([512])\n",
      "encoder.layers.4.norm1.bias \t torch.Size([512])\n",
      "encoder.layers.4.norm2.weight \t torch.Size([512])\n",
      "encoder.layers.4.norm2.bias \t torch.Size([512])\n",
      "encoder.layers.5.self_attn.in_proj_weight \t torch.Size([1536, 512])\n",
      "encoder.layers.5.self_attn.in_proj_bias \t torch.Size([1536])\n",
      "encoder.layers.5.self_attn.out_proj.weight \t torch.Size([512, 512])\n",
      "encoder.layers.5.self_attn.out_proj.bias \t torch.Size([512])\n",
      "encoder.layers.5.linear1.weight \t torch.Size([2048, 512])\n",
      "encoder.layers.5.linear1.bias \t torch.Size([2048])\n",
      "encoder.layers.5.linear2.weight \t torch.Size([512, 2048])\n",
      "encoder.layers.5.linear2.bias \t torch.Size([512])\n",
      "encoder.layers.5.norm1.weight \t torch.Size([512])\n",
      "encoder.layers.5.norm1.bias \t torch.Size([512])\n",
      "encoder.layers.5.norm2.weight \t torch.Size([512])\n",
      "encoder.layers.5.norm2.bias \t torch.Size([512])\n",
      "encoder.layers.6.self_attn.in_proj_weight \t torch.Size([1536, 512])\n",
      "encoder.layers.6.self_attn.in_proj_bias \t torch.Size([1536])\n",
      "encoder.layers.6.self_attn.out_proj.weight \t torch.Size([512, 512])\n",
      "encoder.layers.6.self_attn.out_proj.bias \t torch.Size([512])\n",
      "encoder.layers.6.linear1.weight \t torch.Size([2048, 512])\n",
      "encoder.layers.6.linear1.bias \t torch.Size([2048])\n",
      "encoder.layers.6.linear2.weight \t torch.Size([512, 2048])\n",
      "encoder.layers.6.linear2.bias \t torch.Size([512])\n",
      "encoder.layers.6.norm1.weight \t torch.Size([512])\n",
      "encoder.layers.6.norm1.bias \t torch.Size([512])\n",
      "encoder.layers.6.norm2.weight \t torch.Size([512])\n",
      "encoder.layers.6.norm2.bias \t torch.Size([512])\n",
      "encoder.layers.7.self_attn.in_proj_weight \t torch.Size([1536, 512])\n",
      "encoder.layers.7.self_attn.in_proj_bias \t torch.Size([1536])\n",
      "encoder.layers.7.self_attn.out_proj.weight \t torch.Size([512, 512])\n",
      "encoder.layers.7.self_attn.out_proj.bias \t torch.Size([512])\n",
      "encoder.layers.7.linear1.weight \t torch.Size([2048, 512])\n",
      "encoder.layers.7.linear1.bias \t torch.Size([2048])\n",
      "encoder.layers.7.linear2.weight \t torch.Size([512, 2048])\n",
      "encoder.layers.7.linear2.bias \t torch.Size([512])\n",
      "encoder.layers.7.norm1.weight \t torch.Size([512])\n",
      "encoder.layers.7.norm1.bias \t torch.Size([512])\n",
      "encoder.layers.7.norm2.weight \t torch.Size([512])\n",
      "encoder.layers.7.norm2.bias \t torch.Size([512])\n",
      "project_notes.weight \t torch.Size([218, 512])\n",
      "project_notes.bias \t torch.Size([218])\n",
      "project_emo.weight \t torch.Size([4, 512])\n",
      "project_emo.bias \t torch.Size([4])\n"
     ]
    }
   ],
   "source": [
    "# Print model's state_dict\n",
    "print(\"Model's state_dict:\")\n",
    "for param_tensor in model.state_dict():\n",
    "    print(param_tensor, \"\\t\", model.state_dict()[param_tensor].size())"
   ]
  },
  {
   "cell_type": "code",
   "execution_count": 74,
   "id": "9f094754",
   "metadata": {},
   "outputs": [],
   "source": [
    "torch.save(model.state_dict(), './models/remi_transformer.pt')"
   ]
  },
  {
   "cell_type": "markdown",
   "id": "e7cf5665",
   "metadata": {},
   "source": [
    "## Generate"
   ]
  },
  {
   "cell_type": "code",
   "execution_count": 79,
   "id": "ca647571",
   "metadata": {},
   "outputs": [
    {
     "data": {
      "text/plain": [
       "REMITransformer(\n",
       "  (criterion): CrossEntropyLoss()\n",
       "  (embedding_notes): Embedding(218, 128)\n",
       "  (embedding_emotion): Embedding(4, 128)\n",
       "  (in_linear): Linear(in_features=256, out_features=512, bias=True)\n",
       "  (pos_encoder): PositionalEncoding(\n",
       "    (dropout): Dropout(p=0.2, inplace=False)\n",
       "  )\n",
       "  (linear): Linear(in_features=256, out_features=512, bias=True)\n",
       "  (encoder): TransformerEncoder(\n",
       "    (layers): ModuleList(\n",
       "      (0): TransformerEncoderLayer(\n",
       "        (self_attn): MultiheadAttention(\n",
       "          (out_proj): _LinearWithBias(in_features=512, out_features=512, bias=True)\n",
       "        )\n",
       "        (linear1): Linear(in_features=512, out_features=2048, bias=True)\n",
       "        (dropout): Dropout(p=0.2, inplace=False)\n",
       "        (linear2): Linear(in_features=2048, out_features=512, bias=True)\n",
       "        (norm1): LayerNorm((512,), eps=1e-05, elementwise_affine=True)\n",
       "        (norm2): LayerNorm((512,), eps=1e-05, elementwise_affine=True)\n",
       "        (dropout1): Dropout(p=0.2, inplace=False)\n",
       "        (dropout2): Dropout(p=0.2, inplace=False)\n",
       "      )\n",
       "      (1): TransformerEncoderLayer(\n",
       "        (self_attn): MultiheadAttention(\n",
       "          (out_proj): _LinearWithBias(in_features=512, out_features=512, bias=True)\n",
       "        )\n",
       "        (linear1): Linear(in_features=512, out_features=2048, bias=True)\n",
       "        (dropout): Dropout(p=0.2, inplace=False)\n",
       "        (linear2): Linear(in_features=2048, out_features=512, bias=True)\n",
       "        (norm1): LayerNorm((512,), eps=1e-05, elementwise_affine=True)\n",
       "        (norm2): LayerNorm((512,), eps=1e-05, elementwise_affine=True)\n",
       "        (dropout1): Dropout(p=0.2, inplace=False)\n",
       "        (dropout2): Dropout(p=0.2, inplace=False)\n",
       "      )\n",
       "      (2): TransformerEncoderLayer(\n",
       "        (self_attn): MultiheadAttention(\n",
       "          (out_proj): _LinearWithBias(in_features=512, out_features=512, bias=True)\n",
       "        )\n",
       "        (linear1): Linear(in_features=512, out_features=2048, bias=True)\n",
       "        (dropout): Dropout(p=0.2, inplace=False)\n",
       "        (linear2): Linear(in_features=2048, out_features=512, bias=True)\n",
       "        (norm1): LayerNorm((512,), eps=1e-05, elementwise_affine=True)\n",
       "        (norm2): LayerNorm((512,), eps=1e-05, elementwise_affine=True)\n",
       "        (dropout1): Dropout(p=0.2, inplace=False)\n",
       "        (dropout2): Dropout(p=0.2, inplace=False)\n",
       "      )\n",
       "      (3): TransformerEncoderLayer(\n",
       "        (self_attn): MultiheadAttention(\n",
       "          (out_proj): _LinearWithBias(in_features=512, out_features=512, bias=True)\n",
       "        )\n",
       "        (linear1): Linear(in_features=512, out_features=2048, bias=True)\n",
       "        (dropout): Dropout(p=0.2, inplace=False)\n",
       "        (linear2): Linear(in_features=2048, out_features=512, bias=True)\n",
       "        (norm1): LayerNorm((512,), eps=1e-05, elementwise_affine=True)\n",
       "        (norm2): LayerNorm((512,), eps=1e-05, elementwise_affine=True)\n",
       "        (dropout1): Dropout(p=0.2, inplace=False)\n",
       "        (dropout2): Dropout(p=0.2, inplace=False)\n",
       "      )\n",
       "      (4): TransformerEncoderLayer(\n",
       "        (self_attn): MultiheadAttention(\n",
       "          (out_proj): _LinearWithBias(in_features=512, out_features=512, bias=True)\n",
       "        )\n",
       "        (linear1): Linear(in_features=512, out_features=2048, bias=True)\n",
       "        (dropout): Dropout(p=0.2, inplace=False)\n",
       "        (linear2): Linear(in_features=2048, out_features=512, bias=True)\n",
       "        (norm1): LayerNorm((512,), eps=1e-05, elementwise_affine=True)\n",
       "        (norm2): LayerNorm((512,), eps=1e-05, elementwise_affine=True)\n",
       "        (dropout1): Dropout(p=0.2, inplace=False)\n",
       "        (dropout2): Dropout(p=0.2, inplace=False)\n",
       "      )\n",
       "      (5): TransformerEncoderLayer(\n",
       "        (self_attn): MultiheadAttention(\n",
       "          (out_proj): _LinearWithBias(in_features=512, out_features=512, bias=True)\n",
       "        )\n",
       "        (linear1): Linear(in_features=512, out_features=2048, bias=True)\n",
       "        (dropout): Dropout(p=0.2, inplace=False)\n",
       "        (linear2): Linear(in_features=2048, out_features=512, bias=True)\n",
       "        (norm1): LayerNorm((512,), eps=1e-05, elementwise_affine=True)\n",
       "        (norm2): LayerNorm((512,), eps=1e-05, elementwise_affine=True)\n",
       "        (dropout1): Dropout(p=0.2, inplace=False)\n",
       "        (dropout2): Dropout(p=0.2, inplace=False)\n",
       "      )\n",
       "      (6): TransformerEncoderLayer(\n",
       "        (self_attn): MultiheadAttention(\n",
       "          (out_proj): _LinearWithBias(in_features=512, out_features=512, bias=True)\n",
       "        )\n",
       "        (linear1): Linear(in_features=512, out_features=2048, bias=True)\n",
       "        (dropout): Dropout(p=0.2, inplace=False)\n",
       "        (linear2): Linear(in_features=2048, out_features=512, bias=True)\n",
       "        (norm1): LayerNorm((512,), eps=1e-05, elementwise_affine=True)\n",
       "        (norm2): LayerNorm((512,), eps=1e-05, elementwise_affine=True)\n",
       "        (dropout1): Dropout(p=0.2, inplace=False)\n",
       "        (dropout2): Dropout(p=0.2, inplace=False)\n",
       "      )\n",
       "      (7): TransformerEncoderLayer(\n",
       "        (self_attn): MultiheadAttention(\n",
       "          (out_proj): _LinearWithBias(in_features=512, out_features=512, bias=True)\n",
       "        )\n",
       "        (linear1): Linear(in_features=512, out_features=2048, bias=True)\n",
       "        (dropout): Dropout(p=0.2, inplace=False)\n",
       "        (linear2): Linear(in_features=2048, out_features=512, bias=True)\n",
       "        (norm1): LayerNorm((512,), eps=1e-05, elementwise_affine=True)\n",
       "        (norm2): LayerNorm((512,), eps=1e-05, elementwise_affine=True)\n",
       "        (dropout1): Dropout(p=0.2, inplace=False)\n",
       "        (dropout2): Dropout(p=0.2, inplace=False)\n",
       "      )\n",
       "    )\n",
       "  )\n",
       "  (project_notes): Linear(in_features=512, out_features=218, bias=True)\n",
       "  (project_emo): Linear(in_features=512, out_features=4, bias=True)\n",
       ")"
      ]
     },
     "execution_count": 79,
     "metadata": {},
     "output_type": "execute_result"
    }
   ],
   "source": [
    "model = REMITransformer(ntokens, emsize, nhead, nlayer, dropout, device=device)\n",
    "model.load_state_dict(torch.load('./models/remi_transformer.pt'))\n",
    "model.to(device)\n",
    "model.eval()"
   ]
  },
  {
   "cell_type": "code",
   "execution_count": null,
   "id": "46dccd8c",
   "metadata": {},
   "outputs": [],
   "source": [
    "# tensorboard\n",
    "# https://pytorch.org/tutorials/recipes/recipes/tensorboard_with_pytorch.html?msclkid=ce0b97e5b41911ec9d2e71bb3c7d0f90"
   ]
  },
  {
   "cell_type": "code",
   "execution_count": 86,
   "id": "0d551adc",
   "metadata": {},
   "outputs": [],
   "source": [
    "# !pip install muspy\n",
    "import muspy"
   ]
  },
  {
   "cell_type": "code",
   "execution_count": 48,
   "id": "fe6bd16b",
   "metadata": {},
   "outputs": [],
   "source": [
    "sequences = []\n",
    "for k in range(3):\n",
    "    for emo in range(4):\n",
    "        n_generate = 2000\n",
    "        temperature = 1\n",
    "        sequence = []\n",
    "        log_interval = 4000 # interval between logs\n",
    "        input = torch.randint(len(train_corpus), (1, 2), dtype=torch.long).to(device)\n",
    "        emotion = torch.full((1, 2), emo).to(device)\n",
    "        # emotion[:,0] = emo\n",
    "\n",
    "\n",
    "        # src_mask = generate_square_subsequent_mask(len(input)).to(device)\n",
    "        with torch.no_grad():  # no tracking history\n",
    "            for i in range(n_generate):\n",
    "                output, _ = model(input, emotion)\n",
    "                F.log_softmax(output, dim=-1)\n",
    "\n",
    "                word_weights = output[-1].squeeze().div(temperature).exp().cpu()\n",
    "                word = torch.multinomial(word_weights, 1)[0].tolist()\n",
    "                word_tensor = torch.Tensor([[word]]).long().to(device)\n",
    "                # print(input.shape)\n",
    "                # print(word_tensor.shape)\n",
    "                input = torch.cat([input, word_tensor], 1)\n",
    "                emotion = torch.cat([emotion, torch.zeros((1,1), dtype=int).to(device)], -1)\n",
    "\n",
    "                \n",
    "                sequence.append(word)\n",
    "\n",
    "            if i+1 % log_interval == 0:\n",
    "                print('| Generated {}/{} notes'.format(i, n_generate))\n",
    "        sequences.append(sequence)"
   ]
  },
  {
   "cell_type": "code",
   "execution_count": 49,
   "id": "baf8e2aa",
   "metadata": {},
   "outputs": [],
   "source": [
    "import muspy"
   ]
  },
  {
   "cell_type": "code",
   "execution_count": 51,
   "id": "bf94d08f",
   "metadata": {},
   "outputs": [
    {
     "data": {
      "text/plain": [
       "12"
      ]
     },
     "execution_count": 51,
     "metadata": {},
     "output_type": "execute_result"
    }
   ],
   "source": [
    "len(sequences)"
   ]
  },
  {
   "cell_type": "code",
   "execution_count": 52,
   "id": "0d9fd4a4",
   "metadata": {},
   "outputs": [],
   "source": [
    "q1 = [sequences[0], sequences[4], sequences[8]]\n",
    "q2 = [sequences[1], sequences[5], sequences[9]]\n",
    "q3 = [sequences[2], sequences[6], sequences[10]]\n",
    "q4 = [sequences[3], sequences[7], sequences[11]]"
   ]
  },
  {
   "cell_type": "code",
   "execution_count": 53,
   "id": "9348e569",
   "metadata": {},
   "outputs": [],
   "source": [
    "date = '17_04_'\n",
    "pitch_ranges = []\n",
    "n_pitches = []\n",
    "polyphonies = []\n",
    "empty_beat_rates = []"
   ]
  },
  {
   "cell_type": "code",
   "execution_count": 74,
   "id": "25eeccc3",
   "metadata": {},
   "outputs": [
    {
     "name": "stdout",
     "output_type": "stream",
     "text": [
      "remi_transformer_17_04_0_4.mid\n",
      "remi_transformer_17_04_1_4.mid\n",
      "remi_transformer_17_04_2_4.mid\n"
     ]
    }
   ],
   "source": [
    "for i,seq in enumerate(q4):\n",
    "    # TODO: remove this\n",
    "    # seq = seq[0]\n",
    "\n",
    "    converted_back_midi = remi_enc.tokens_to_midi([seq], get_midi_programs(midi))\n",
    "    file_name = 'remi_transformer_' + date + str(i) + '_' + str(4) + '.mid'\n",
    "    converted_back_midi.dump(file_name)\n",
    "    music = muspy.read_midi(file_name)\n",
    "\n",
    "    # music = muspy.read_midi(file_name)\n",
    "    pitch_ranges.append(muspy.pitch_range(music))\n",
    "    n_pitches.append(muspy.n_pitch_classes_used(music))\n",
    "    polyphonies.append(muspy.polyphony(music)) # average number of pitches being played concurrently.\n",
    "    empty_beat_rates.append(muspy.empty_beat_rate(music))"
   ]
  },
  {
   "cell_type": "code",
   "execution_count": 75,
   "id": "41f862a6",
   "metadata": {},
   "outputs": [],
   "source": [
    "results_transgan = {'Pitch_range': pitch_ranges, 'NPC': n_pitches, 'Polyphony': polyphonies, 'Empty_beat_rates': empty_beat_rates}\n",
    "results_df = pd.DataFrame(results_transgan)\n",
    "results_df.to_csv('remi_transformer.csv')"
   ]
  },
  {
   "cell_type": "code",
   "execution_count": 59,
   "id": "c8a9f99c",
   "metadata": {
    "execution": {
     "iopub.execute_input": "2022-02-02T19:56:49.918349Z",
     "iopub.status.busy": "2022-02-02T19:56:49.917802Z",
     "iopub.status.idle": "2022-02-02T19:56:49.924542Z",
     "shell.execute_reply": "2022-02-02T19:56:49.923850Z",
     "shell.execute_reply.started": "2022-02-02T19:56:49.918312Z"
    },
    "papermill": {
     "duration": null,
     "end_time": null,
     "exception": null,
     "start_time": null,
     "status": "pending"
    },
    "tags": []
   },
   "outputs": [
    {
     "data": {
      "text/plain": [
       "ticks per beat: 384\n",
       "max tick: 0\n",
       "tempo changes: 1\n",
       "time sig: 0\n",
       "key sig: 0\n",
       "markers: 0\n",
       "lyrics: False\n",
       "instruments: 1"
      ]
     },
     "execution_count": 59,
     "metadata": {},
     "output_type": "execute_result"
    }
   ],
   "source": [
    "converted_back_midi"
   ]
  },
  {
   "cell_type": "markdown",
   "id": "390772d9",
   "metadata": {},
   "source": [
    "## Metrics"
   ]
  },
  {
   "cell_type": "markdown",
   "id": "3a90ecba",
   "metadata": {},
   "source": [
    "### BLEU Score"
   ]
  },
  {
   "cell_type": "code",
   "execution_count": 60,
   "id": "c03e1042",
   "metadata": {},
   "outputs": [
    {
     "data": {
      "text/plain": [
       "torch.Size([34451, 20])"
      ]
     },
     "execution_count": 60,
     "metadata": {},
     "output_type": "execute_result"
    }
   ],
   "source": [
    "train_check = xtrain[:,:,0]\n",
    "train_check.shape"
   ]
  },
  {
   "cell_type": "code",
   "execution_count": 63,
   "id": "d87da4ac",
   "metadata": {},
   "outputs": [],
   "source": [
    "gen_check = []\n",
    "for sequence in sequences:\n",
    "    # print(sequence[0])\n",
    "    for i in range(0, len(sequence)-20, 20):\n",
    "        gen_check.append(sequence[i:i+20])"
   ]
  },
  {
   "cell_type": "code",
   "execution_count": 64,
   "id": "b37810c9",
   "metadata": {},
   "outputs": [
    {
     "data": {
      "text/plain": [
       "torch.Size([1188, 20])"
      ]
     },
     "execution_count": 64,
     "metadata": {},
     "output_type": "execute_result"
    }
   ],
   "source": [
    "torch.Tensor(gen_check).shape"
   ]
  },
  {
   "cell_type": "code",
   "execution_count": 77,
   "id": "ba0c0c57",
   "metadata": {},
   "outputs": [
    {
     "ename": "KeyboardInterrupt",
     "evalue": "",
     "output_type": "error",
     "traceback": [
      "\u001b[1;31m---------------------------------------------------------------------------\u001b[0m",
      "\u001b[1;31mKeyboardInterrupt\u001b[0m                         Traceback (most recent call last)",
      "Input \u001b[1;32mIn [77]\u001b[0m, in \u001b[0;36m<cell line: 3>\u001b[1;34m()\u001b[0m\n\u001b[0;32m      1\u001b[0m \u001b[39mfrom\u001b[39;00m \u001b[39mnltk\u001b[39;00m\u001b[39m.\u001b[39;00m\u001b[39mtranslate\u001b[39;00m\u001b[39m.\u001b[39;00m\u001b[39mbleu_score\u001b[39;00m \u001b[39mimport\u001b[39;00m corpus_bleu\n\u001b[1;32m----> 3\u001b[0m score \u001b[39m=\u001b[39m corpus_bleu([train_check], [torch\u001b[39m.\u001b[39;49mTensor(gen_check)])\n",
      "File \u001b[1;32mC:\\ProgramData\\Anaconda3\\envs\\newpydisser\\lib\\site-packages\\nltk\\translate\\bleu_score.py:210\u001b[0m, in \u001b[0;36mcorpus_bleu\u001b[1;34m(list_of_references, hypotheses, weights, smoothing_function, auto_reweigh)\u001b[0m\n\u001b[0;32m    <a href='file:///c%3A/ProgramData/Anaconda3/envs/newpydisser/lib/site-packages/nltk/translate/bleu_score.py?line=205'>206</a>\u001b[0m \u001b[39mfor\u001b[39;00m references, hypothesis \u001b[39min\u001b[39;00m \u001b[39mzip\u001b[39m(list_of_references, hypotheses):\n\u001b[0;32m    <a href='file:///c%3A/ProgramData/Anaconda3/envs/newpydisser/lib/site-packages/nltk/translate/bleu_score.py?line=206'>207</a>\u001b[0m     \u001b[39m# For each order of ngram, calculate the numerator and\u001b[39;00m\n\u001b[0;32m    <a href='file:///c%3A/ProgramData/Anaconda3/envs/newpydisser/lib/site-packages/nltk/translate/bleu_score.py?line=207'>208</a>\u001b[0m     \u001b[39m# denominator for the corpus-level modified precision.\u001b[39;00m\n\u001b[0;32m    <a href='file:///c%3A/ProgramData/Anaconda3/envs/newpydisser/lib/site-packages/nltk/translate/bleu_score.py?line=208'>209</a>\u001b[0m     \u001b[39mfor\u001b[39;00m i \u001b[39min\u001b[39;00m \u001b[39mrange\u001b[39m(\u001b[39m1\u001b[39m, max_weight_length \u001b[39m+\u001b[39m \u001b[39m1\u001b[39m):\n\u001b[1;32m--> <a href='file:///c%3A/ProgramData/Anaconda3/envs/newpydisser/lib/site-packages/nltk/translate/bleu_score.py?line=209'>210</a>\u001b[0m         p_i \u001b[39m=\u001b[39m modified_precision(references, hypothesis, i)\n\u001b[0;32m    <a href='file:///c%3A/ProgramData/Anaconda3/envs/newpydisser/lib/site-packages/nltk/translate/bleu_score.py?line=210'>211</a>\u001b[0m         p_numerators[i] \u001b[39m+\u001b[39m\u001b[39m=\u001b[39m p_i\u001b[39m.\u001b[39mnumerator\n\u001b[0;32m    <a href='file:///c%3A/ProgramData/Anaconda3/envs/newpydisser/lib/site-packages/nltk/translate/bleu_score.py?line=211'>212</a>\u001b[0m         p_denominators[i] \u001b[39m+\u001b[39m\u001b[39m=\u001b[39m p_i\u001b[39m.\u001b[39mdenominator\n",
      "File \u001b[1;32mC:\\ProgramData\\Anaconda3\\envs\\newpydisser\\lib\\site-packages\\nltk\\translate\\bleu_score.py:353\u001b[0m, in \u001b[0;36mmodified_precision\u001b[1;34m(references, hypothesis, n)\u001b[0m\n\u001b[0;32m    <a href='file:///c%3A/ProgramData/Anaconda3/envs/newpydisser/lib/site-packages/nltk/translate/bleu_score.py?line=349'>350</a>\u001b[0m max_counts \u001b[39m=\u001b[39m {}\n\u001b[0;32m    <a href='file:///c%3A/ProgramData/Anaconda3/envs/newpydisser/lib/site-packages/nltk/translate/bleu_score.py?line=350'>351</a>\u001b[0m \u001b[39mfor\u001b[39;00m reference \u001b[39min\u001b[39;00m references:\n\u001b[0;32m    <a href='file:///c%3A/ProgramData/Anaconda3/envs/newpydisser/lib/site-packages/nltk/translate/bleu_score.py?line=351'>352</a>\u001b[0m     reference_counts \u001b[39m=\u001b[39m (\n\u001b[1;32m--> <a href='file:///c%3A/ProgramData/Anaconda3/envs/newpydisser/lib/site-packages/nltk/translate/bleu_score.py?line=352'>353</a>\u001b[0m         Counter(ngrams(reference, n)) \u001b[39mif\u001b[39;00m \u001b[39mlen\u001b[39m(reference) \u001b[39m>\u001b[39m\u001b[39m=\u001b[39m n \u001b[39melse\u001b[39;00m Counter()\n\u001b[0;32m    <a href='file:///c%3A/ProgramData/Anaconda3/envs/newpydisser/lib/site-packages/nltk/translate/bleu_score.py?line=353'>354</a>\u001b[0m     )\n\u001b[0;32m    <a href='file:///c%3A/ProgramData/Anaconda3/envs/newpydisser/lib/site-packages/nltk/translate/bleu_score.py?line=354'>355</a>\u001b[0m     \u001b[39mfor\u001b[39;00m ngram \u001b[39min\u001b[39;00m counts:\n\u001b[0;32m    <a href='file:///c%3A/ProgramData/Anaconda3/envs/newpydisser/lib/site-packages/nltk/translate/bleu_score.py?line=355'>356</a>\u001b[0m         max_counts[ngram] \u001b[39m=\u001b[39m \u001b[39mmax\u001b[39m(max_counts\u001b[39m.\u001b[39mget(ngram, \u001b[39m0\u001b[39m), reference_counts[ngram])\n",
      "File \u001b[1;32mC:\\ProgramData\\Anaconda3\\envs\\newpydisser\\lib\\site-packages\\nltk\\util.py:861\u001b[0m, in \u001b[0;36mngrams\u001b[1;34m(sequence, n, **kwargs)\u001b[0m\n\u001b[0;32m    <a href='file:///c%3A/ProgramData/Anaconda3/envs/newpydisser/lib/site-packages/nltk/util.py?line=824'>825</a>\u001b[0m \u001b[39mdef\u001b[39;00m \u001b[39mngrams\u001b[39m(sequence, n, \u001b[39m*\u001b[39m\u001b[39m*\u001b[39mkwargs):\n\u001b[0;32m    <a href='file:///c%3A/ProgramData/Anaconda3/envs/newpydisser/lib/site-packages/nltk/util.py?line=825'>826</a>\u001b[0m     \u001b[39m\"\"\"\u001b[39;00m\n\u001b[0;32m    <a href='file:///c%3A/ProgramData/Anaconda3/envs/newpydisser/lib/site-packages/nltk/util.py?line=826'>827</a>\u001b[0m \u001b[39m    Return the ngrams generated from a sequence of items, as an iterator.\u001b[39;00m\n\u001b[0;32m    <a href='file:///c%3A/ProgramData/Anaconda3/envs/newpydisser/lib/site-packages/nltk/util.py?line=827'>828</a>\u001b[0m \u001b[39m    For example:\u001b[39;00m\n\u001b[1;32m   (...)\u001b[0m\n\u001b[0;32m    <a href='file:///c%3A/ProgramData/Anaconda3/envs/newpydisser/lib/site-packages/nltk/util.py?line=858'>859</a>\u001b[0m \u001b[39m    :rtype: sequence or iter\u001b[39;00m\n\u001b[0;32m    <a href='file:///c%3A/ProgramData/Anaconda3/envs/newpydisser/lib/site-packages/nltk/util.py?line=859'>860</a>\u001b[0m \u001b[39m    \"\"\"\u001b[39;00m\n\u001b[1;32m--> <a href='file:///c%3A/ProgramData/Anaconda3/envs/newpydisser/lib/site-packages/nltk/util.py?line=860'>861</a>\u001b[0m     sequence \u001b[39m=\u001b[39m pad_sequence(sequence, n, \u001b[39m*\u001b[39;49m\u001b[39m*\u001b[39;49mkwargs)\n\u001b[0;32m    <a href='file:///c%3A/ProgramData/Anaconda3/envs/newpydisser/lib/site-packages/nltk/util.py?line=862'>863</a>\u001b[0m     \u001b[39m# Creates the sliding window, of n no. of items.\u001b[39;00m\n\u001b[0;32m    <a href='file:///c%3A/ProgramData/Anaconda3/envs/newpydisser/lib/site-packages/nltk/util.py?line=863'>864</a>\u001b[0m     \u001b[39m# `iterables` is a tuple of iterables where each iterable is a window of n items.\u001b[39;00m\n\u001b[0;32m    <a href='file:///c%3A/ProgramData/Anaconda3/envs/newpydisser/lib/site-packages/nltk/util.py?line=864'>865</a>\u001b[0m     iterables \u001b[39m=\u001b[39m tee(sequence, n)\n",
      "File \u001b[1;32mC:\\ProgramData\\Anaconda3\\envs\\newpydisser\\lib\\site-packages\\nltk\\util.py:814\u001b[0m, in \u001b[0;36mpad_sequence\u001b[1;34m(sequence, n, pad_left, pad_right, left_pad_symbol, right_pad_symbol)\u001b[0m\n\u001b[0;32m    <a href='file:///c%3A/ProgramData/Anaconda3/envs/newpydisser/lib/site-packages/nltk/util.py?line=781'>782</a>\u001b[0m \u001b[39mdef\u001b[39;00m \u001b[39mpad_sequence\u001b[39m(\n\u001b[0;32m    <a href='file:///c%3A/ProgramData/Anaconda3/envs/newpydisser/lib/site-packages/nltk/util.py?line=782'>783</a>\u001b[0m     sequence,\n\u001b[0;32m    <a href='file:///c%3A/ProgramData/Anaconda3/envs/newpydisser/lib/site-packages/nltk/util.py?line=783'>784</a>\u001b[0m     n,\n\u001b[1;32m   (...)\u001b[0m\n\u001b[0;32m    <a href='file:///c%3A/ProgramData/Anaconda3/envs/newpydisser/lib/site-packages/nltk/util.py?line=787'>788</a>\u001b[0m     right_pad_symbol\u001b[39m=\u001b[39m\u001b[39mNone\u001b[39;00m,\n\u001b[0;32m    <a href='file:///c%3A/ProgramData/Anaconda3/envs/newpydisser/lib/site-packages/nltk/util.py?line=788'>789</a>\u001b[0m ):\n\u001b[0;32m    <a href='file:///c%3A/ProgramData/Anaconda3/envs/newpydisser/lib/site-packages/nltk/util.py?line=789'>790</a>\u001b[0m     \u001b[39m\"\"\"\u001b[39;00m\n\u001b[0;32m    <a href='file:///c%3A/ProgramData/Anaconda3/envs/newpydisser/lib/site-packages/nltk/util.py?line=790'>791</a>\u001b[0m \u001b[39m    Returns a padded sequence of items before ngram extraction.\u001b[39;00m\n\u001b[0;32m    <a href='file:///c%3A/ProgramData/Anaconda3/envs/newpydisser/lib/site-packages/nltk/util.py?line=791'>792</a>\u001b[0m \n\u001b[1;32m   (...)\u001b[0m\n\u001b[0;32m    <a href='file:///c%3A/ProgramData/Anaconda3/envs/newpydisser/lib/site-packages/nltk/util.py?line=811'>812</a>\u001b[0m \u001b[39m    :rtype: sequence or iter\u001b[39;00m\n\u001b[0;32m    <a href='file:///c%3A/ProgramData/Anaconda3/envs/newpydisser/lib/site-packages/nltk/util.py?line=812'>813</a>\u001b[0m \u001b[39m    \"\"\"\u001b[39;00m\n\u001b[1;32m--> <a href='file:///c%3A/ProgramData/Anaconda3/envs/newpydisser/lib/site-packages/nltk/util.py?line=813'>814</a>\u001b[0m     sequence \u001b[39m=\u001b[39m \u001b[39miter\u001b[39;49m(sequence)\n\u001b[0;32m    <a href='file:///c%3A/ProgramData/Anaconda3/envs/newpydisser/lib/site-packages/nltk/util.py?line=814'>815</a>\u001b[0m     \u001b[39mif\u001b[39;00m pad_left:\n\u001b[0;32m    <a href='file:///c%3A/ProgramData/Anaconda3/envs/newpydisser/lib/site-packages/nltk/util.py?line=815'>816</a>\u001b[0m         sequence \u001b[39m=\u001b[39m chain((left_pad_symbol,) \u001b[39m*\u001b[39m (n \u001b[39m-\u001b[39m \u001b[39m1\u001b[39m), sequence)\n",
      "File \u001b[1;32m~\\AppData\\Roaming\\Python\\Python38\\site-packages\\torch\\tensor.py:594\u001b[0m, in \u001b[0;36mTensor.__iter__\u001b[1;34m(self)\u001b[0m\n\u001b[0;32m    <a href='file:///c%3A/Users/ms374/AppData/Roaming/Python/Python38/site-packages/torch/tensor.py?line=588'>589</a>\u001b[0m \u001b[39mif\u001b[39;00m torch\u001b[39m.\u001b[39m_C\u001b[39m.\u001b[39m_get_tracing_state():\n\u001b[0;32m    <a href='file:///c%3A/Users/ms374/AppData/Roaming/Python/Python38/site-packages/torch/tensor.py?line=589'>590</a>\u001b[0m     warnings\u001b[39m.\u001b[39mwarn(\u001b[39m'\u001b[39m\u001b[39mIterating over a tensor might cause the trace to be incorrect. \u001b[39m\u001b[39m'\u001b[39m\n\u001b[0;32m    <a href='file:///c%3A/Users/ms374/AppData/Roaming/Python/Python38/site-packages/torch/tensor.py?line=590'>591</a>\u001b[0m                   \u001b[39m'\u001b[39m\u001b[39mPassing a tensor of different shape won\u001b[39m\u001b[39m\\'\u001b[39;00m\u001b[39mt change the number of \u001b[39m\u001b[39m'\u001b[39m\n\u001b[0;32m    <a href='file:///c%3A/Users/ms374/AppData/Roaming/Python/Python38/site-packages/torch/tensor.py?line=591'>592</a>\u001b[0m                   \u001b[39m'\u001b[39m\u001b[39miterations executed (and might lead to errors or silently give \u001b[39m\u001b[39m'\u001b[39m\n\u001b[0;32m    <a href='file:///c%3A/Users/ms374/AppData/Roaming/Python/Python38/site-packages/torch/tensor.py?line=592'>593</a>\u001b[0m                   \u001b[39m'\u001b[39m\u001b[39mincorrect results).\u001b[39m\u001b[39m'\u001b[39m, category\u001b[39m=\u001b[39m\u001b[39mRuntimeWarning\u001b[39;00m)\n\u001b[1;32m--> <a href='file:///c%3A/Users/ms374/AppData/Roaming/Python/Python38/site-packages/torch/tensor.py?line=593'>594</a>\u001b[0m \u001b[39mreturn\u001b[39;00m \u001b[39miter\u001b[39m(\u001b[39mself\u001b[39;49m\u001b[39m.\u001b[39;49munbind(\u001b[39m0\u001b[39;49m))\n",
      "\u001b[1;31mKeyboardInterrupt\u001b[0m: "
     ]
    }
   ],
   "source": [
    "from nltk.translate.bleu_score import corpus_bleu\n",
    "\n",
    "score = corpus_bleu([train_check], [torch.Tensor(gen_check)])\n"
   ]
  },
  {
   "cell_type": "code",
   "execution_count": 43,
   "id": "d5cd9311",
   "metadata": {},
   "outputs": [
    {
     "data": {
      "text/plain": [
       "0"
      ]
     },
     "execution_count": 43,
     "metadata": {},
     "output_type": "execute_result"
    }
   ],
   "source": [
    "score"
   ]
  },
  {
   "cell_type": "markdown",
   "id": "76b03ba9",
   "metadata": {},
   "source": [
    "### MusPy metrics"
   ]
  },
  {
   "cell_type": "code",
   "execution_count": 76,
   "id": "bb5620bb",
   "metadata": {},
   "outputs": [
    {
     "data": {
      "text/html": [
       "<div>\n",
       "<style scoped>\n",
       "    .dataframe tbody tr th:only-of-type {\n",
       "        vertical-align: middle;\n",
       "    }\n",
       "\n",
       "    .dataframe tbody tr th {\n",
       "        vertical-align: top;\n",
       "    }\n",
       "\n",
       "    .dataframe thead th {\n",
       "        text-align: right;\n",
       "    }\n",
       "</style>\n",
       "<table border=\"1\" class=\"dataframe\">\n",
       "  <thead>\n",
       "    <tr style=\"text-align: right;\">\n",
       "      <th></th>\n",
       "      <th>Pitch_range</th>\n",
       "      <th>NPC</th>\n",
       "      <th>Polyphony</th>\n",
       "      <th>Empty_beat_rates</th>\n",
       "    </tr>\n",
       "  </thead>\n",
       "  <tbody>\n",
       "    <tr>\n",
       "      <th>count</th>\n",
       "      <td>24.000000</td>\n",
       "      <td>24.000000</td>\n",
       "      <td>24.000000</td>\n",
       "      <td>24.000000</td>\n",
       "    </tr>\n",
       "    <tr>\n",
       "      <th>mean</th>\n",
       "      <td>83.083333</td>\n",
       "      <td>21.041667</td>\n",
       "      <td>4.606362</td>\n",
       "      <td>0.094493</td>\n",
       "    </tr>\n",
       "    <tr>\n",
       "      <th>std</th>\n",
       "      <td>3.646519</td>\n",
       "      <td>10.127359</td>\n",
       "      <td>1.072821</td>\n",
       "      <td>0.068378</td>\n",
       "    </tr>\n",
       "    <tr>\n",
       "      <th>min</th>\n",
       "      <td>73.000000</td>\n",
       "      <td>9.000000</td>\n",
       "      <td>3.058621</td>\n",
       "      <td>0.000000</td>\n",
       "    </tr>\n",
       "    <tr>\n",
       "      <th>25%</th>\n",
       "      <td>81.750000</td>\n",
       "      <td>12.000000</td>\n",
       "      <td>3.616532</td>\n",
       "      <td>0.041270</td>\n",
       "    </tr>\n",
       "    <tr>\n",
       "      <th>50%</th>\n",
       "      <td>84.000000</td>\n",
       "      <td>19.000000</td>\n",
       "      <td>4.565378</td>\n",
       "      <td>0.115282</td>\n",
       "    </tr>\n",
       "    <tr>\n",
       "      <th>75%</th>\n",
       "      <td>85.250000</td>\n",
       "      <td>30.250000</td>\n",
       "      <td>5.224983</td>\n",
       "      <td>0.127551</td>\n",
       "    </tr>\n",
       "    <tr>\n",
       "      <th>max</th>\n",
       "      <td>87.000000</td>\n",
       "      <td>35.000000</td>\n",
       "      <td>6.535565</td>\n",
       "      <td>0.200000</td>\n",
       "    </tr>\n",
       "  </tbody>\n",
       "</table>\n",
       "</div>"
      ],
      "text/plain": [
       "       Pitch_range        NPC  Polyphony  Empty_beat_rates\n",
       "count    24.000000  24.000000  24.000000         24.000000\n",
       "mean     83.083333  21.041667   4.606362          0.094493\n",
       "std       3.646519  10.127359   1.072821          0.068378\n",
       "min      73.000000   9.000000   3.058621          0.000000\n",
       "25%      81.750000  12.000000   3.616532          0.041270\n",
       "50%      84.000000  19.000000   4.565378          0.115282\n",
       "75%      85.250000  30.250000   5.224983          0.127551\n",
       "max      87.000000  35.000000   6.535565          0.200000"
      ]
     },
     "execution_count": 76,
     "metadata": {},
     "output_type": "execute_result"
    }
   ],
   "source": [
    "results_df.describe()"
   ]
  },
  {
   "cell_type": "code",
   "execution_count": null,
   "id": "2579f5c0",
   "metadata": {},
   "outputs": [],
   "source": [
    "music = muspy.read_midi('conditioned_17_03_4.mid')\n",
    "pitch_range = muspy.pitch_range(music)\n",
    "n_pitches_used = muspy.n_pitches_used(music)\n",
    "polyphony = muspy.polyphony(music) # average number of pitches being played concurrently.\n",
    "empty_beat_rate = muspy.empty_beat_rate(music)\n",
    "\n",
    "print(\"The pitch range is\", pitch_range)\n",
    "print(\"The number of unique pitches used is\", n_pitches_used)\n",
    "print(\"The polyphony is\", polyphony)\n",
    "print(\"The empty beat rate is\", empty_beat_rate)"
   ]
  },
  {
   "cell_type": "markdown",
   "id": "10226242",
   "metadata": {},
   "source": [
    "## Extra"
   ]
  },
  {
   "cell_type": "code",
   "execution_count": null,
   "id": "d7262be0",
   "metadata": {},
   "outputs": [],
   "source": [
    "class MidiBert(nn.Module):\n",
    "    def __init__(self, bert_model_path, ntokens, hidden_size=200):\n",
    "        super().__init__()\n",
    "        \n",
    "        # self.bert = BertModel(max_position_embeddings= max_position_embeddings, position_embedding_type=position_embedding_type, hidden_size=hidden_size)\n",
    "        self.bert = BertForSequenceClassification.from_pretrained(bert_model_path, problem_type=\"multi_label_classification\", num_labels = 4)\n",
    "        self.d_model = 768\n",
    "        self.hidden_size = hidden_size\n",
    "        # self.bertConfig = bertConfig\n",
    "\n",
    "        # token types: [Bar, Position, Pitch, Duration]\n",
    "        self.n_token = ntokens\n",
    "        self.emb_size = 256\n",
    "        \n",
    "        # word_emb: embeddings to change token ids into embeddings\n",
    "        self.word_emb = nn.Embedding(self.n_token, self.emb_size) \n",
    "\n",
    "        # linear layer to merge embeddings from different token types \n",
    "        self.in_linear = nn.Linear(self.emb_size, self.d_model)\n",
    "\n",
    "        self.proj = nn.Linear(hidden_size, ntokens)\n",
    "\n",
    "\n",
    "    def forward(self, input_id, attn_mask=None):\n",
    "        # convert input_ids into embeddings and merge them through linear layer\n",
    "        emb = self.word_emb(input_id) * math.sqrt(self.d_model)\n",
    "        # emb_squared = emb \n",
    "        emb_linear = self.in_linear(emb)\n",
    "        \n",
    "        # feed to bert \n",
    "        y = self.bert(inputs_embeds=emb_linear, attention_mask=attn_mask, output_hidden_states=True)\n",
    "        # y = y.hidden_states[-1]        # (batch_size, seq_len, 768)\n",
    "        # y = self.proj(y) \n",
    "        return y"
   ]
  }
 ],
 "metadata": {
  "kernelspec": {
   "display_name": "Python 3",
   "language": "python",
   "name": "python3"
  },
  "language_info": {
   "codemirror_mode": {
    "name": "ipython",
    "version": 3
   },
   "file_extension": ".py",
   "mimetype": "text/x-python",
   "name": "python",
   "nbconvert_exporter": "python",
   "pygments_lexer": "ipython3",
   "version": "3.8.8"
  },
  "papermill": {
   "default_parameters": {},
   "duration": 106.840771,
   "end_time": "2022-02-02T19:59:15.470216",
   "environment_variables": {},
   "exception": true,
   "input_path": "__notebook__.ipynb",
   "output_path": "__notebook__.ipynb",
   "parameters": {},
   "start_time": "2022-02-02T19:57:28.629445",
   "version": "2.3.3"
  }
 },
 "nbformat": 4,
 "nbformat_minor": 5
}
