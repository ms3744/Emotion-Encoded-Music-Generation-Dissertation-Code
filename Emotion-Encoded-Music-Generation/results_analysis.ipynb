{
 "cells": [
  {
   "cell_type": "code",
   "execution_count": 10,
   "metadata": {},
   "outputs": [],
   "source": [
    "import numpy as np \n",
    "import pandas as pd \n",
    "from io import open\n",
    "import tensorflow as tf\n",
    "import glob\n",
    "import os\n",
    "import torch\n",
    "import torch.nn as nn\n",
    "import torch.nn.functional as F\n",
    "import math\n",
    "import time\n",
    "from miditok import get_midi_programs, REMI, CPWord, MIDILike\n",
    "from miditoolkit import MidiFile\n",
    "from torch.nn.utils.rnn import pad_sequence\n",
    "from sklearn.model_selection import train_test_split\n",
    "import muspy"
   ]
  },
  {
   "cell_type": "code",
   "execution_count": 6,
   "metadata": {},
   "outputs": [
    {
     "data": {
      "text/plain": [
       "'1.7.0'"
      ]
     },
     "execution_count": 6,
     "metadata": {},
     "output_type": "execute_result"
    }
   ],
   "source": [
    "torch.__version__"
   ]
  },
  {
   "cell_type": "code",
   "execution_count": 7,
   "metadata": {},
   "outputs": [],
   "source": [
    "device = 'cpu'"
   ]
  },
  {
   "cell_type": "code",
   "execution_count": 8,
   "metadata": {},
   "outputs": [],
   "source": [
    "files_paths = list(glob.glob('archive/EMOPIA_1.0 (1)/EMOPIA_1.0/midis/*.mid'))\n",
    "PR = []\n",
    "NPC = []\n",
    "POLY = []\n",
    "EBR = []\n",
    "for file in files_paths:\n",
    "    # file_name = os.path.basename(file)\n",
    "\n",
    "    # read the MIDI file\n",
    "    music = muspy.read_midi(file)\n",
    "\n",
    "    PR.append(muspy.pitch_range(music))\n",
    "    NPC.append(muspy.n_pitch_classes_used(music))\n",
    "    POLY.append(muspy.polyphony(music)) # average number of pitches being played concurrently.\n",
    "    EBR.append(muspy.empty_beat_rate(music))\n",
    "    # # Converts MIDI to tokens\n",
    "    # tokens = encoder.midi_to_tokens(midi)\n",
    "    \n",
    "    # # The EMOPIA dataset has midi files with only one instrument, i.e. the piano \n",
    "    # # hence we just add those tokens\n",
    "    # # print(tokens)\n",
    "    # notes.append(tokens[0])"
   ]
  },
  {
   "cell_type": "code",
   "execution_count": 9,
   "metadata": {},
   "outputs": [],
   "source": [
    "original_dataset = pd.DataFrame({'PR' : PR, 'NPC': NPC, 'POLY': POLY, 'EBR': EBR})"
   ]
  },
  {
   "cell_type": "code",
   "execution_count": 12,
   "metadata": {},
   "outputs": [
    {
     "data": {
      "text/html": [
       "<div>\n",
       "<style scoped>\n",
       "    .dataframe tbody tr th:only-of-type {\n",
       "        vertical-align: middle;\n",
       "    }\n",
       "\n",
       "    .dataframe tbody tr th {\n",
       "        vertical-align: top;\n",
       "    }\n",
       "\n",
       "    .dataframe thead th {\n",
       "        text-align: right;\n",
       "    }\n",
       "</style>\n",
       "<table border=\"1\" class=\"dataframe\">\n",
       "  <thead>\n",
       "    <tr style=\"text-align: right;\">\n",
       "      <th></th>\n",
       "      <th>PR</th>\n",
       "      <th>NPC</th>\n",
       "      <th>POLY</th>\n",
       "      <th>EBR</th>\n",
       "    </tr>\n",
       "  </thead>\n",
       "  <tbody>\n",
       "    <tr>\n",
       "      <th>count</th>\n",
       "      <td>1078.000000</td>\n",
       "      <td>1078.000000</td>\n",
       "      <td>1078.000000</td>\n",
       "      <td>1078.000000</td>\n",
       "    </tr>\n",
       "    <tr>\n",
       "      <th>mean</th>\n",
       "      <td>50.952690</td>\n",
       "      <td>8.481447</td>\n",
       "      <td>5.903558</td>\n",
       "      <td>0.005310</td>\n",
       "    </tr>\n",
       "    <tr>\n",
       "      <th>std</th>\n",
       "      <td>11.993057</td>\n",
       "      <td>1.563015</td>\n",
       "      <td>1.677853</td>\n",
       "      <td>0.015704</td>\n",
       "    </tr>\n",
       "    <tr>\n",
       "      <th>min</th>\n",
       "      <td>16.000000</td>\n",
       "      <td>4.000000</td>\n",
       "      <td>1.586723</td>\n",
       "      <td>0.000000</td>\n",
       "    </tr>\n",
       "    <tr>\n",
       "      <th>25%</th>\n",
       "      <td>42.000000</td>\n",
       "      <td>7.000000</td>\n",
       "      <td>4.747677</td>\n",
       "      <td>0.000000</td>\n",
       "    </tr>\n",
       "    <tr>\n",
       "      <th>50%</th>\n",
       "      <td>50.000000</td>\n",
       "      <td>8.000000</td>\n",
       "      <td>5.684972</td>\n",
       "      <td>0.000000</td>\n",
       "    </tr>\n",
       "    <tr>\n",
       "      <th>75%</th>\n",
       "      <td>60.000000</td>\n",
       "      <td>9.000000</td>\n",
       "      <td>6.829173</td>\n",
       "      <td>0.000000</td>\n",
       "    </tr>\n",
       "    <tr>\n",
       "      <th>max</th>\n",
       "      <td>82.000000</td>\n",
       "      <td>12.000000</td>\n",
       "      <td>13.748174</td>\n",
       "      <td>0.200000</td>\n",
       "    </tr>\n",
       "  </tbody>\n",
       "</table>\n",
       "</div>"
      ],
      "text/plain": [
       "                PR          NPC         POLY          EBR\n",
       "count  1078.000000  1078.000000  1078.000000  1078.000000\n",
       "mean     50.952690     8.481447     5.903558     0.005310\n",
       "std      11.993057     1.563015     1.677853     0.015704\n",
       "min      16.000000     4.000000     1.586723     0.000000\n",
       "25%      42.000000     7.000000     4.747677     0.000000\n",
       "50%      50.000000     8.000000     5.684972     0.000000\n",
       "75%      60.000000     9.000000     6.829173     0.000000\n",
       "max      82.000000    12.000000    13.748174     0.200000"
      ]
     },
     "execution_count": 12,
     "metadata": {},
     "output_type": "execute_result"
    }
   ],
   "source": [
    "original_dataset.describe()"
   ]
  },
  {
   "cell_type": "code",
   "execution_count": 13,
   "metadata": {},
   "outputs": [],
   "source": [
    "original_dataset.to_csv('Original_dataset.csv')"
   ]
  },
  {
   "cell_type": "code",
   "execution_count": 3,
   "metadata": {},
   "outputs": [],
   "source": [
    "files_paths = list(glob.glob('archive/EMOPIA_1.0 (1)/EMOPIA_1.0/midis/*.mid'))"
   ]
  },
  {
   "cell_type": "code",
   "execution_count": null,
   "metadata": {},
   "outputs": [],
   "source": [
    "PR = []\n",
    "NPC = []\n",
    "POLY = []\n",
    "EBR = []\n",
    "for file in files_paths:\n",
    "    # file_name = os.path.basename(file)\n",
    "\n",
    "    # read the MIDI file\n",
    "    music = muspy.read_midi(file)\n",
    "\n",
    "    PR.append(muspy.pitch_range(music))\n",
    "    NPC.append(muspy.n_pitch_classes_used(music))\n",
    "    POLY.append(muspy.polyphony(music)) # average number of pitches being played concurrently.\n",
    "    EBR.append(muspy.empty_beat_rate(music))\n",
    "    # # Converts MIDI to tokens\n",
    "    # tokens = encoder.midi_to_tokens(midi)\n",
    "    \n",
    "    # # The EMOPIA dataset has midi files with only one instrument, i.e. the piano \n",
    "    # # hence we just add those tokens\n",
    "    # # print(tokens)\n",
    "    # notes.append(tokens[0])"
   ]
  },
  {
   "cell_type": "code",
   "execution_count": 4,
   "metadata": {},
   "outputs": [],
   "source": [
    "lens = []\n",
    "for file in files_paths:\n",
    "    midi = MidiFile(file)\n",
    "    tokens = REMI().midi_to_tokens(midi)\n",
    "    lens.append(len(tokens[0]))"
   ]
  },
  {
   "cell_type": "code",
   "execution_count": 6,
   "metadata": {},
   "outputs": [
    {
     "data": {
      "text/plain": [
       "957.7708719851577"
      ]
     },
     "execution_count": 6,
     "metadata": {},
     "output_type": "execute_result"
    }
   ],
   "source": [
    "np.average(lens) # REMI"
   ]
  },
  {
   "cell_type": "code",
   "execution_count": 7,
   "metadata": {},
   "outputs": [],
   "source": [
    "lens = []\n",
    "for file in files_paths:\n",
    "    midi = MidiFile(file)\n",
    "    tokens = CPWord().midi_to_tokens(midi)\n",
    "    lens.append(len(tokens[0]))"
   ]
  },
  {
   "cell_type": "code",
   "execution_count": 8,
   "metadata": {},
   "outputs": [
    {
     "data": {
      "text/plain": [
       "427.88961038961037"
      ]
     },
     "execution_count": 8,
     "metadata": {},
     "output_type": "execute_result"
    }
   ],
   "source": [
    "np.average(lens) # CP Word"
   ]
  },
  {
   "cell_type": "code",
   "execution_count": 11,
   "metadata": {},
   "outputs": [],
   "source": [
    "lens = []\n",
    "for file in files_paths:\n",
    "    midi = MidiFile(file)\n",
    "    tokens = MIDILike().midi_to_tokens(midi)\n",
    "    lens.append(len(tokens[0]))"
   ]
  },
  {
   "cell_type": "code",
   "execution_count": 12,
   "metadata": {},
   "outputs": [
    {
     "data": {
      "text/plain": [
       "983.2940630797774"
      ]
     },
     "execution_count": 12,
     "metadata": {},
     "output_type": "execute_result"
    }
   ],
   "source": [
    "np.average(lens) # MIDI Like"
   ]
  },
  {
   "cell_type": "code",
   "execution_count": null,
   "metadata": {},
   "outputs": [],
   "source": []
  }
 ],
 "metadata": {
  "interpreter": {
   "hash": "ac59ebe37160ed0dfa835113d9b8498d9f09ceb179beaac4002f036b9467c963"
  },
  "kernelspec": {
   "display_name": "Python 3.9.6 64-bit",
   "language": "python",
   "name": "python3"
  },
  "language_info": {
   "codemirror_mode": {
    "name": "ipython",
    "version": 3
   },
   "file_extension": ".py",
   "mimetype": "text/x-python",
   "name": "python",
   "nbconvert_exporter": "python",
   "pygments_lexer": "ipython3",
   "version": "3.8.8"
  },
  "orig_nbformat": 4
 },
 "nbformat": 4,
 "nbformat_minor": 2
}
